{
 "cells": [
  {
   "cell_type": "code",
   "execution_count": 1,
   "metadata": {},
   "outputs": [],
   "source": [
    "import pandas as pd\n",
    "import numpy as np\n",
    "import warnings \n",
    "warnings.filterwarnings('ignore')"
   ]
  },
  {
   "cell_type": "code",
   "execution_count": 2,
   "metadata": {},
   "outputs": [],
   "source": [
    "active_promos=pd.read_csv('active_promos.csv')\n",
    "clients_atributos=pd.read_csv('clients_attributes.csv')\n",
    "ejecutar_promo=pd.read_csv('executed_promos.csv')\n",
    "sales=pd.read_csv('sales.csv',encoding='latin1')\n",
    "test=pd.read_csv('test.csv')"
   ]
  },
  {
   "cell_type": "code",
   "execution_count": 6,
   "metadata": {},
   "outputs": [
    {
     "data": {
      "text/plain": [
       "Cliente           0\n",
       "Año               0\n",
       "Mes               0\n",
       "ClaseEnvase       0\n",
       "SegmentoPrecio    5\n",
       "Marca             0\n",
       "Cupo              5\n",
       "Nr                0\n",
       "Hl                0\n",
       "Dcto              0\n",
       "dtype: int64"
      ]
     },
     "execution_count": 6,
     "metadata": {},
     "output_type": "execute_result"
    }
   ],
   "source": [
    "sales.isnull().sum()"
   ]
  },
  {
   "cell_type": "code",
   "execution_count": 7,
   "metadata": {},
   "outputs": [],
   "source": [
    "sales['Cupo']=sales['Cupo'].fillna(-1)"
   ]
  },
  {
   "cell_type": "code",
   "execution_count": 8,
   "metadata": {},
   "outputs": [],
   "source": [
    "sales['marca_cupo']=sales['Marca'].astype(str)+'_'+(sales['Cupo'].astype(int)).astype(str)\n",
    "active_promos['marca_cupo']=active_promos['Marca'].astype(str)+'_'+active_promos['Cupo'].astype(str)\n",
    "ejecutar_promo['id_full']=ejecutar_promo['Cliente'].astype(str)+'_'+ejecutar_promo['Marca'].astype(str)+'_'+ejecutar_promo['Cupo'].astype(str)\n",
    "active_promos['id_full']=active_promos['Cliente'].astype(str)+'_'+active_promos['Marca'].astype(str)+'_'+active_promos['Cupo'].astype(str)\n",
    "sales['id_full']=sales['Cliente'].astype(str)+'_'+(sales['Marca']).astype(str)+'_'+(sales['Cupo'].astype(int)).astype(str)\n",
    "test['id_full']=test['Cliente'].astype(str)+'_'+test['Marca'].astype(str)+'_'+test['Cupo'].astype(str)"
   ]
  },
  {
   "cell_type": "code",
   "execution_count": 56,
   "metadata": {},
   "outputs": [],
   "source": [
    "sales['target_pos']=(sales['Dcto']<0).astype(int)"
   ]
  },
  {
   "cell_type": "code",
   "execution_count": 57,
   "metadata": {},
   "outputs": [],
   "source": [
    "sales['ganancia']=sales['Nr']+sales['Dcto']"
   ]
  },
  {
   "cell_type": "code",
   "execution_count": 58,
   "metadata": {},
   "outputs": [],
   "source": [
    "sales['propor_des_in']=abs(sales['Dcto'])/sales['Nr']"
   ]
  },
  {
   "cell_type": "code",
   "execution_count": 59,
   "metadata": {},
   "outputs": [],
   "source": [
    "sales['ganancia_pi']=sales['ganancia']/sales['Nr']"
   ]
  },
  {
   "cell_type": "code",
   "execution_count": 60,
   "metadata": {},
   "outputs": [
    {
     "data": {
      "text/html": [
       "<div>\n",
       "<style scoped>\n",
       "    .dataframe tbody tr th:only-of-type {\n",
       "        vertical-align: middle;\n",
       "    }\n",
       "\n",
       "    .dataframe tbody tr th {\n",
       "        vertical-align: top;\n",
       "    }\n",
       "\n",
       "    .dataframe thead th {\n",
       "        text-align: right;\n",
       "    }\n",
       "</style>\n",
       "<table border=\"1\" class=\"dataframe\">\n",
       "  <thead>\n",
       "    <tr style=\"text-align: right;\">\n",
       "      <th></th>\n",
       "      <th>Cliente</th>\n",
       "      <th>Año</th>\n",
       "      <th>Mes</th>\n",
       "      <th>ClaseEnvase</th>\n",
       "      <th>SegmentoPrecio</th>\n",
       "      <th>Marca</th>\n",
       "      <th>Cupo</th>\n",
       "      <th>Nr</th>\n",
       "      <th>Hl</th>\n",
       "      <th>Dcto</th>\n",
       "      <th>marca_cupo</th>\n",
       "      <th>id_full</th>\n",
       "      <th>target_pos</th>\n",
       "      <th>ganancia</th>\n",
       "      <th>propor_des_in</th>\n",
       "      <th>ganancia_pi</th>\n",
       "    </tr>\n",
       "  </thead>\n",
       "  <tbody>\n",
       "    <tr>\n",
       "      <th>0</th>\n",
       "      <td>1</td>\n",
       "      <td>2018</td>\n",
       "      <td>1</td>\n",
       "      <td>2</td>\n",
       "      <td>2.0</td>\n",
       "      <td>44</td>\n",
       "      <td>10.0</td>\n",
       "      <td>6352.94</td>\n",
       "      <td>0.03</td>\n",
       "      <td>0.0</td>\n",
       "      <td>44_10</td>\n",
       "      <td>1_44_10</td>\n",
       "      <td>0</td>\n",
       "      <td>6352.94</td>\n",
       "      <td>0.00000</td>\n",
       "      <td>1.00000</td>\n",
       "    </tr>\n",
       "    <tr>\n",
       "      <th>1</th>\n",
       "      <td>1</td>\n",
       "      <td>2018</td>\n",
       "      <td>1</td>\n",
       "      <td>2</td>\n",
       "      <td>4.0</td>\n",
       "      <td>18</td>\n",
       "      <td>16.0</td>\n",
       "      <td>99130.50</td>\n",
       "      <td>0.45</td>\n",
       "      <td>0.0</td>\n",
       "      <td>18_16</td>\n",
       "      <td>1_18_16</td>\n",
       "      <td>0</td>\n",
       "      <td>99130.50</td>\n",
       "      <td>0.00000</td>\n",
       "      <td>1.00000</td>\n",
       "    </tr>\n",
       "    <tr>\n",
       "      <th>2</th>\n",
       "      <td>1</td>\n",
       "      <td>2018</td>\n",
       "      <td>6</td>\n",
       "      <td>2</td>\n",
       "      <td>1.0</td>\n",
       "      <td>2</td>\n",
       "      <td>6.0</td>\n",
       "      <td>11605.40</td>\n",
       "      <td>0.07</td>\n",
       "      <td>-2880.0</td>\n",
       "      <td>2_6</td>\n",
       "      <td>1_2_6</td>\n",
       "      <td>1</td>\n",
       "      <td>8725.40</td>\n",
       "      <td>0.24816</td>\n",
       "      <td>0.75184</td>\n",
       "    </tr>\n",
       "    <tr>\n",
       "      <th>3</th>\n",
       "      <td>1</td>\n",
       "      <td>2018</td>\n",
       "      <td>7</td>\n",
       "      <td>1</td>\n",
       "      <td>2.0</td>\n",
       "      <td>37</td>\n",
       "      <td>34.0</td>\n",
       "      <td>1944.01</td>\n",
       "      <td>0.01</td>\n",
       "      <td>0.0</td>\n",
       "      <td>37_34</td>\n",
       "      <td>1_37_34</td>\n",
       "      <td>0</td>\n",
       "      <td>1944.01</td>\n",
       "      <td>0.00000</td>\n",
       "      <td>1.00000</td>\n",
       "    </tr>\n",
       "    <tr>\n",
       "      <th>4</th>\n",
       "      <td>1</td>\n",
       "      <td>2018</td>\n",
       "      <td>8</td>\n",
       "      <td>2</td>\n",
       "      <td>1.0</td>\n",
       "      <td>2</td>\n",
       "      <td>16.0</td>\n",
       "      <td>16250.18</td>\n",
       "      <td>0.06</td>\n",
       "      <td>0.0</td>\n",
       "      <td>2_16</td>\n",
       "      <td>1_2_16</td>\n",
       "      <td>0</td>\n",
       "      <td>16250.18</td>\n",
       "      <td>0.00000</td>\n",
       "      <td>1.00000</td>\n",
       "    </tr>\n",
       "  </tbody>\n",
       "</table>\n",
       "</div>"
      ],
      "text/plain": [
       "   Cliente   Año  Mes  ClaseEnvase  SegmentoPrecio  Marca  Cupo        Nr  \\\n",
       "0        1  2018    1            2             2.0     44  10.0   6352.94   \n",
       "1        1  2018    1            2             4.0     18  16.0  99130.50   \n",
       "2        1  2018    6            2             1.0      2   6.0  11605.40   \n",
       "3        1  2018    7            1             2.0     37  34.0   1944.01   \n",
       "4        1  2018    8            2             1.0      2  16.0  16250.18   \n",
       "\n",
       "     Hl    Dcto marca_cupo  id_full  target_pos  ganancia  propor_des_in  \\\n",
       "0  0.03     0.0      44_10  1_44_10           0   6352.94        0.00000   \n",
       "1  0.45     0.0      18_16  1_18_16           0  99130.50        0.00000   \n",
       "2  0.07 -2880.0        2_6    1_2_6           1   8725.40        0.24816   \n",
       "3  0.01     0.0      37_34  1_37_34           0   1944.01        0.00000   \n",
       "4  0.06     0.0       2_16   1_2_16           0  16250.18        0.00000   \n",
       "\n",
       "   ganancia_pi  \n",
       "0      1.00000  \n",
       "1      1.00000  \n",
       "2      0.75184  \n",
       "3      1.00000  \n",
       "4      1.00000  "
      ]
     },
     "execution_count": 60,
     "metadata": {},
     "output_type": "execute_result"
    }
   ],
   "source": [
    "sales.head()"
   ]
  },
  {
   "cell_type": "code",
   "execution_count": 335,
   "metadata": {},
   "outputs": [],
   "source": [
    "#from sklearn.preprocessing import StandardScaler\n",
    "#from sklearn.preprocessing import MinMaxScaler"
   ]
  },
  {
   "cell_type": "code",
   "execution_count": 61,
   "metadata": {},
   "outputs": [],
   "source": [
    "sales1=sales.copy()"
   ]
  },
  {
   "cell_type": "code",
   "execution_count": 336,
   "metadata": {},
   "outputs": [],
   "source": [
    "#scaler=MinMaxScaler()\n",
    "#st=StandardScaler()\n",
    "#st1=StandardScaler()"
   ]
  },
  {
   "cell_type": "code",
   "execution_count": 337,
   "metadata": {},
   "outputs": [
    {
     "data": {
      "text/plain": [
       "array([ 8.75667298, 11.50419244,  9.35922579, ...,  8.74758402,\n",
       "        9.66405963,  9.68671926])"
      ]
     },
     "execution_count": 337,
     "metadata": {},
     "output_type": "execute_result"
    }
   ],
   "source": [
    "sales1.Nr.values"
   ]
  },
  {
   "cell_type": "code",
   "execution_count": null,
   "metadata": {},
   "outputs": [],
   "source": []
  },
  {
   "cell_type": "code",
   "execution_count": 338,
   "metadata": {},
   "outputs": [],
   "source": [
    "import matplotlib.pyplot as plt"
   ]
  },
  {
   "cell_type": "code",
   "execution_count": null,
   "metadata": {},
   "outputs": [],
   "source": []
  },
  {
   "cell_type": "code",
   "execution_count": 340,
   "metadata": {},
   "outputs": [],
   "source": [
    "#plt.plot(scaler.fit_transform(sales1.Nr.values.reshape(-1,1)))"
   ]
  },
  {
   "cell_type": "code",
   "execution_count": 93,
   "metadata": {},
   "outputs": [],
   "source": [
    "sales1['Nr']=np.log(sales1.Nr.values)"
   ]
  },
  {
   "cell_type": "code",
   "execution_count": 95,
   "metadata": {},
   "outputs": [],
   "source": [
    "sales1['ganancia']=np.log(sales1.ganancia.values)"
   ]
  },
  {
   "cell_type": "code",
   "execution_count": 96,
   "metadata": {},
   "outputs": [
    {
     "data": {
      "text/html": [
       "<div>\n",
       "<style scoped>\n",
       "    .dataframe tbody tr th:only-of-type {\n",
       "        vertical-align: middle;\n",
       "    }\n",
       "\n",
       "    .dataframe tbody tr th {\n",
       "        vertical-align: top;\n",
       "    }\n",
       "\n",
       "    .dataframe thead th {\n",
       "        text-align: right;\n",
       "    }\n",
       "</style>\n",
       "<table border=\"1\" class=\"dataframe\">\n",
       "  <thead>\n",
       "    <tr style=\"text-align: right;\">\n",
       "      <th></th>\n",
       "      <th>Cliente</th>\n",
       "      <th>Año</th>\n",
       "      <th>Mes</th>\n",
       "      <th>ClaseEnvase</th>\n",
       "      <th>SegmentoPrecio</th>\n",
       "      <th>Marca</th>\n",
       "      <th>Cupo</th>\n",
       "      <th>Nr</th>\n",
       "      <th>Hl</th>\n",
       "      <th>Dcto</th>\n",
       "      <th>marca_cupo</th>\n",
       "      <th>id_full</th>\n",
       "      <th>target_pos</th>\n",
       "      <th>ganancia</th>\n",
       "      <th>propor_des_in</th>\n",
       "      <th>ganancia_pi</th>\n",
       "    </tr>\n",
       "  </thead>\n",
       "  <tbody>\n",
       "    <tr>\n",
       "      <th>0</th>\n",
       "      <td>1</td>\n",
       "      <td>2018</td>\n",
       "      <td>1</td>\n",
       "      <td>2</td>\n",
       "      <td>2.0</td>\n",
       "      <td>44</td>\n",
       "      <td>10.0</td>\n",
       "      <td>8.756673</td>\n",
       "      <td>0.03</td>\n",
       "      <td>0.0</td>\n",
       "      <td>44_10</td>\n",
       "      <td>1_44_10</td>\n",
       "      <td>0</td>\n",
       "      <td>8.756673</td>\n",
       "      <td>0.00000</td>\n",
       "      <td>1.00000</td>\n",
       "    </tr>\n",
       "    <tr>\n",
       "      <th>1</th>\n",
       "      <td>1</td>\n",
       "      <td>2018</td>\n",
       "      <td>1</td>\n",
       "      <td>2</td>\n",
       "      <td>4.0</td>\n",
       "      <td>18</td>\n",
       "      <td>16.0</td>\n",
       "      <td>11.504192</td>\n",
       "      <td>0.45</td>\n",
       "      <td>0.0</td>\n",
       "      <td>18_16</td>\n",
       "      <td>1_18_16</td>\n",
       "      <td>0</td>\n",
       "      <td>11.504192</td>\n",
       "      <td>0.00000</td>\n",
       "      <td>1.00000</td>\n",
       "    </tr>\n",
       "    <tr>\n",
       "      <th>2</th>\n",
       "      <td>1</td>\n",
       "      <td>2018</td>\n",
       "      <td>6</td>\n",
       "      <td>2</td>\n",
       "      <td>1.0</td>\n",
       "      <td>2</td>\n",
       "      <td>6.0</td>\n",
       "      <td>9.359226</td>\n",
       "      <td>0.07</td>\n",
       "      <td>-2880.0</td>\n",
       "      <td>2_6</td>\n",
       "      <td>1_2_6</td>\n",
       "      <td>1</td>\n",
       "      <td>9.073994</td>\n",
       "      <td>0.24816</td>\n",
       "      <td>0.75184</td>\n",
       "    </tr>\n",
       "    <tr>\n",
       "      <th>3</th>\n",
       "      <td>1</td>\n",
       "      <td>2018</td>\n",
       "      <td>7</td>\n",
       "      <td>1</td>\n",
       "      <td>2.0</td>\n",
       "      <td>37</td>\n",
       "      <td>34.0</td>\n",
       "      <td>7.572508</td>\n",
       "      <td>0.01</td>\n",
       "      <td>0.0</td>\n",
       "      <td>37_34</td>\n",
       "      <td>1_37_34</td>\n",
       "      <td>0</td>\n",
       "      <td>7.572508</td>\n",
       "      <td>0.00000</td>\n",
       "      <td>1.00000</td>\n",
       "    </tr>\n",
       "    <tr>\n",
       "      <th>4</th>\n",
       "      <td>1</td>\n",
       "      <td>2018</td>\n",
       "      <td>8</td>\n",
       "      <td>2</td>\n",
       "      <td>1.0</td>\n",
       "      <td>2</td>\n",
       "      <td>16.0</td>\n",
       "      <td>9.695859</td>\n",
       "      <td>0.06</td>\n",
       "      <td>0.0</td>\n",
       "      <td>2_16</td>\n",
       "      <td>1_2_16</td>\n",
       "      <td>0</td>\n",
       "      <td>9.695859</td>\n",
       "      <td>0.00000</td>\n",
       "      <td>1.00000</td>\n",
       "    </tr>\n",
       "  </tbody>\n",
       "</table>\n",
       "</div>"
      ],
      "text/plain": [
       "   Cliente   Año  Mes  ClaseEnvase  SegmentoPrecio  Marca  Cupo         Nr  \\\n",
       "0        1  2018    1            2             2.0     44  10.0   8.756673   \n",
       "1        1  2018    1            2             4.0     18  16.0  11.504192   \n",
       "2        1  2018    6            2             1.0      2   6.0   9.359226   \n",
       "3        1  2018    7            1             2.0     37  34.0   7.572508   \n",
       "4        1  2018    8            2             1.0      2  16.0   9.695859   \n",
       "\n",
       "     Hl    Dcto marca_cupo  id_full  target_pos   ganancia  propor_des_in  \\\n",
       "0  0.03     0.0      44_10  1_44_10           0   8.756673        0.00000   \n",
       "1  0.45     0.0      18_16  1_18_16           0  11.504192        0.00000   \n",
       "2  0.07 -2880.0        2_6    1_2_6           1   9.073994        0.24816   \n",
       "3  0.01     0.0      37_34  1_37_34           0   7.572508        0.00000   \n",
       "4  0.06     0.0       2_16   1_2_16           0   9.695859        0.00000   \n",
       "\n",
       "   ganancia_pi  \n",
       "0      1.00000  \n",
       "1      1.00000  \n",
       "2      0.75184  \n",
       "3      1.00000  \n",
       "4      1.00000  "
      ]
     },
     "execution_count": 96,
     "metadata": {},
     "output_type": "execute_result"
    }
   ],
   "source": [
    "sales1.head()"
   ]
  },
  {
   "cell_type": "code",
   "execution_count": null,
   "metadata": {},
   "outputs": [],
   "source": []
  },
  {
   "cell_type": "code",
   "execution_count": null,
   "metadata": {},
   "outputs": [],
   "source": []
  },
  {
   "cell_type": "code",
   "execution_count": 238,
   "metadata": {},
   "outputs": [],
   "source": [
    "test_sal=pd.merge(test[['id_full']],sales,how='inner',on='id_full')"
   ]
  },
  {
   "cell_type": "code",
   "execution_count": 239,
   "metadata": {},
   "outputs": [],
   "source": [
    "test_sal=test_sal.sort_values(['Año','Mes'])"
   ]
  },
  {
   "cell_type": "code",
   "execution_count": null,
   "metadata": {},
   "outputs": [],
   "source": []
  },
  {
   "cell_type": "code",
   "execution_count": 240,
   "metadata": {},
   "outputs": [],
   "source": [
    "#ids=set(list(test.id_full)).difference(set(list(test_sal.id_full.unique())))"
   ]
  },
  {
   "cell_type": "code",
   "execution_count": 241,
   "metadata": {},
   "outputs": [],
   "source": [
    "test['marca_cupo']=test['Marca'].astype(str)+'_'+test['Cupo'].astype(str)"
   ]
  },
  {
   "cell_type": "code",
   "execution_count": 242,
   "metadata": {},
   "outputs": [],
   "source": [
    "#sales[sales.marca_cupo.isin(test.marca_cupo.unique())]"
   ]
  },
  {
   "cell_type": "code",
   "execution_count": 243,
   "metadata": {},
   "outputs": [],
   "source": [
    "#test[test.id_full.isin(ids)]"
   ]
  },
  {
   "cell_type": "code",
   "execution_count": 244,
   "metadata": {},
   "outputs": [],
   "source": [
    "#test.marca_cupo.unique()"
   ]
  },
  {
   "cell_type": "code",
   "execution_count": 245,
   "metadata": {},
   "outputs": [],
   "source": [
    "#sales[(sales.Cliente==94) & (sales.Marca==40)]"
   ]
  },
  {
   "cell_type": "code",
   "execution_count": 246,
   "metadata": {},
   "outputs": [],
   "source": [
    "test_sal['id_full_c']=test_sal['id_full'].copy()"
   ]
  },
  {
   "cell_type": "code",
   "execution_count": 247,
   "metadata": {},
   "outputs": [
    {
     "data": {
      "text/html": [
       "<div>\n",
       "<style scoped>\n",
       "    .dataframe tbody tr th:only-of-type {\n",
       "        vertical-align: middle;\n",
       "    }\n",
       "\n",
       "    .dataframe tbody tr th {\n",
       "        vertical-align: top;\n",
       "    }\n",
       "\n",
       "    .dataframe thead th {\n",
       "        text-align: right;\n",
       "    }\n",
       "</style>\n",
       "<table border=\"1\" class=\"dataframe\">\n",
       "  <thead>\n",
       "    <tr style=\"text-align: right;\">\n",
       "      <th></th>\n",
       "      <th>id_full</th>\n",
       "      <th>Cliente</th>\n",
       "      <th>Año</th>\n",
       "      <th>Mes</th>\n",
       "      <th>ClaseEnvase</th>\n",
       "      <th>SegmentoPrecio</th>\n",
       "      <th>Marca</th>\n",
       "      <th>Cupo</th>\n",
       "      <th>Nr</th>\n",
       "      <th>Hl</th>\n",
       "      <th>Dcto</th>\n",
       "      <th>marca_cupo</th>\n",
       "      <th>target_pos</th>\n",
       "      <th>ganancia</th>\n",
       "      <th>propor_des_in</th>\n",
       "      <th>ganancia_pi</th>\n",
       "      <th>id_full_c</th>\n",
       "    </tr>\n",
       "  </thead>\n",
       "  <tbody>\n",
       "    <tr>\n",
       "      <th>45</th>\n",
       "      <td>188_40_16</td>\n",
       "      <td>188</td>\n",
       "      <td>2018</td>\n",
       "      <td>1</td>\n",
       "      <td>2</td>\n",
       "      <td>1.0</td>\n",
       "      <td>40</td>\n",
       "      <td>16.0</td>\n",
       "      <td>115610.44</td>\n",
       "      <td>0.36</td>\n",
       "      <td>0.0</td>\n",
       "      <td>40_16</td>\n",
       "      <td>0</td>\n",
       "      <td>115610.44</td>\n",
       "      <td>0.0</td>\n",
       "      <td>1.0</td>\n",
       "      <td>188_40_16</td>\n",
       "    </tr>\n",
       "    <tr>\n",
       "      <th>109</th>\n",
       "      <td>228_40_16</td>\n",
       "      <td>228</td>\n",
       "      <td>2018</td>\n",
       "      <td>1</td>\n",
       "      <td>2</td>\n",
       "      <td>1.0</td>\n",
       "      <td>40</td>\n",
       "      <td>16.0</td>\n",
       "      <td>183049.86</td>\n",
       "      <td>0.56</td>\n",
       "      <td>0.0</td>\n",
       "      <td>40_16</td>\n",
       "      <td>0</td>\n",
       "      <td>183049.86</td>\n",
       "      <td>0.0</td>\n",
       "      <td>1.0</td>\n",
       "      <td>228_40_16</td>\n",
       "    </tr>\n",
       "    <tr>\n",
       "      <th>163</th>\n",
       "      <td>309_39_20</td>\n",
       "      <td>309</td>\n",
       "      <td>2018</td>\n",
       "      <td>1</td>\n",
       "      <td>2</td>\n",
       "      <td>1.0</td>\n",
       "      <td>39</td>\n",
       "      <td>20.0</td>\n",
       "      <td>48171.02</td>\n",
       "      <td>0.15</td>\n",
       "      <td>0.0</td>\n",
       "      <td>39_20</td>\n",
       "      <td>0</td>\n",
       "      <td>48171.02</td>\n",
       "      <td>0.0</td>\n",
       "      <td>1.0</td>\n",
       "      <td>309_39_20</td>\n",
       "    </tr>\n",
       "    <tr>\n",
       "      <th>172</th>\n",
       "      <td>314_39_20</td>\n",
       "      <td>314</td>\n",
       "      <td>2018</td>\n",
       "      <td>1</td>\n",
       "      <td>2</td>\n",
       "      <td>1.0</td>\n",
       "      <td>39</td>\n",
       "      <td>20.0</td>\n",
       "      <td>9634.20</td>\n",
       "      <td>0.03</td>\n",
       "      <td>0.0</td>\n",
       "      <td>39_20</td>\n",
       "      <td>0</td>\n",
       "      <td>9634.20</td>\n",
       "      <td>0.0</td>\n",
       "      <td>1.0</td>\n",
       "      <td>314_39_20</td>\n",
       "    </tr>\n",
       "    <tr>\n",
       "      <th>176</th>\n",
       "      <td>317_39_20</td>\n",
       "      <td>317</td>\n",
       "      <td>2018</td>\n",
       "      <td>1</td>\n",
       "      <td>2</td>\n",
       "      <td>1.0</td>\n",
       "      <td>39</td>\n",
       "      <td>20.0</td>\n",
       "      <td>19268.41</td>\n",
       "      <td>0.06</td>\n",
       "      <td>0.0</td>\n",
       "      <td>39_20</td>\n",
       "      <td>0</td>\n",
       "      <td>19268.41</td>\n",
       "      <td>0.0</td>\n",
       "      <td>1.0</td>\n",
       "      <td>317_39_20</td>\n",
       "    </tr>\n",
       "  </tbody>\n",
       "</table>\n",
       "</div>"
      ],
      "text/plain": [
       "       id_full  Cliente   Año  Mes  ClaseEnvase  SegmentoPrecio  Marca  Cupo  \\\n",
       "45   188_40_16      188  2018    1            2             1.0     40  16.0   \n",
       "109  228_40_16      228  2018    1            2             1.0     40  16.0   \n",
       "163  309_39_20      309  2018    1            2             1.0     39  20.0   \n",
       "172  314_39_20      314  2018    1            2             1.0     39  20.0   \n",
       "176  317_39_20      317  2018    1            2             1.0     39  20.0   \n",
       "\n",
       "            Nr    Hl  Dcto marca_cupo  target_pos   ganancia  propor_des_in  \\\n",
       "45   115610.44  0.36   0.0      40_16           0  115610.44            0.0   \n",
       "109  183049.86  0.56   0.0      40_16           0  183049.86            0.0   \n",
       "163   48171.02  0.15   0.0      39_20           0   48171.02            0.0   \n",
       "172    9634.20  0.03   0.0      39_20           0    9634.20            0.0   \n",
       "176   19268.41  0.06   0.0      39_20           0   19268.41            0.0   \n",
       "\n",
       "     ganancia_pi  id_full_c  \n",
       "45           1.0  188_40_16  \n",
       "109          1.0  228_40_16  \n",
       "163          1.0  309_39_20  \n",
       "172          1.0  314_39_20  \n",
       "176          1.0  317_39_20  "
      ]
     },
     "execution_count": 247,
     "metadata": {},
     "output_type": "execute_result"
    }
   ],
   "source": [
    "test_sal.head()"
   ]
  },
  {
   "cell_type": "code",
   "execution_count": 248,
   "metadata": {},
   "outputs": [],
   "source": [
    "test_sal1=test_sal.groupby('id_full').shift(1).dropna()"
   ]
  },
  {
   "cell_type": "code",
   "execution_count": 249,
   "metadata": {},
   "outputs": [
    {
     "data": {
      "text/html": [
       "<div>\n",
       "<style scoped>\n",
       "    .dataframe tbody tr th:only-of-type {\n",
       "        vertical-align: middle;\n",
       "    }\n",
       "\n",
       "    .dataframe tbody tr th {\n",
       "        vertical-align: top;\n",
       "    }\n",
       "\n",
       "    .dataframe thead th {\n",
       "        text-align: right;\n",
       "    }\n",
       "</style>\n",
       "<table border=\"1\" class=\"dataframe\">\n",
       "  <thead>\n",
       "    <tr style=\"text-align: right;\">\n",
       "      <th></th>\n",
       "      <th>Cliente</th>\n",
       "      <th>Año</th>\n",
       "      <th>Mes</th>\n",
       "      <th>ClaseEnvase</th>\n",
       "      <th>SegmentoPrecio</th>\n",
       "      <th>Marca</th>\n",
       "      <th>Cupo</th>\n",
       "      <th>Nr</th>\n",
       "      <th>Hl</th>\n",
       "      <th>Dcto</th>\n",
       "      <th>marca_cupo</th>\n",
       "      <th>target_pos</th>\n",
       "      <th>ganancia</th>\n",
       "      <th>propor_des_in</th>\n",
       "      <th>ganancia_pi</th>\n",
       "      <th>id_full_c</th>\n",
       "    </tr>\n",
       "  </thead>\n",
       "  <tbody>\n",
       "    <tr>\n",
       "      <th>8576</th>\n",
       "      <td>5496.0</td>\n",
       "      <td>2018.0</td>\n",
       "      <td>1.0</td>\n",
       "      <td>1.0</td>\n",
       "      <td>1.0</td>\n",
       "      <td>39.0</td>\n",
       "      <td>20.0</td>\n",
       "      <td>8084.56</td>\n",
       "      <td>0.02</td>\n",
       "      <td>0.0</td>\n",
       "      <td>39_20</td>\n",
       "      <td>0.0</td>\n",
       "      <td>8084.56</td>\n",
       "      <td>0.0</td>\n",
       "      <td>1.0</td>\n",
       "      <td>5496_39_20</td>\n",
       "    </tr>\n",
       "    <tr>\n",
       "      <th>12038</th>\n",
       "      <td>8116.0</td>\n",
       "      <td>2018.0</td>\n",
       "      <td>1.0</td>\n",
       "      <td>2.0</td>\n",
       "      <td>1.0</td>\n",
       "      <td>39.0</td>\n",
       "      <td>20.0</td>\n",
       "      <td>28235.75</td>\n",
       "      <td>0.09</td>\n",
       "      <td>0.0</td>\n",
       "      <td>39_20</td>\n",
       "      <td>0.0</td>\n",
       "      <td>28235.75</td>\n",
       "      <td>0.0</td>\n",
       "      <td>1.0</td>\n",
       "      <td>8116_39_20</td>\n",
       "    </tr>\n",
       "    <tr>\n",
       "      <th>13117</th>\n",
       "      <td>8831.0</td>\n",
       "      <td>2018.0</td>\n",
       "      <td>1.0</td>\n",
       "      <td>1.0</td>\n",
       "      <td>1.0</td>\n",
       "      <td>39.0</td>\n",
       "      <td>20.0</td>\n",
       "      <td>8234.57</td>\n",
       "      <td>0.02</td>\n",
       "      <td>0.0</td>\n",
       "      <td>39_20</td>\n",
       "      <td>0.0</td>\n",
       "      <td>8234.57</td>\n",
       "      <td>0.0</td>\n",
       "      <td>1.0</td>\n",
       "      <td>8831_39_20</td>\n",
       "    </tr>\n",
       "    <tr>\n",
       "      <th>31918</th>\n",
       "      <td>8387.0</td>\n",
       "      <td>2018.0</td>\n",
       "      <td>1.0</td>\n",
       "      <td>1.0</td>\n",
       "      <td>1.0</td>\n",
       "      <td>39.0</td>\n",
       "      <td>20.0</td>\n",
       "      <td>48507.38</td>\n",
       "      <td>0.14</td>\n",
       "      <td>0.0</td>\n",
       "      <td>39_20</td>\n",
       "      <td>0.0</td>\n",
       "      <td>48507.38</td>\n",
       "      <td>0.0</td>\n",
       "      <td>1.0</td>\n",
       "      <td>8387_39_20</td>\n",
       "    </tr>\n",
       "    <tr>\n",
       "      <th>46</th>\n",
       "      <td>188.0</td>\n",
       "      <td>2018.0</td>\n",
       "      <td>1.0</td>\n",
       "      <td>2.0</td>\n",
       "      <td>1.0</td>\n",
       "      <td>40.0</td>\n",
       "      <td>16.0</td>\n",
       "      <td>115610.44</td>\n",
       "      <td>0.36</td>\n",
       "      <td>0.0</td>\n",
       "      <td>40_16</td>\n",
       "      <td>0.0</td>\n",
       "      <td>115610.44</td>\n",
       "      <td>0.0</td>\n",
       "      <td>1.0</td>\n",
       "      <td>188_40_16</td>\n",
       "    </tr>\n",
       "  </tbody>\n",
       "</table>\n",
       "</div>"
      ],
      "text/plain": [
       "       Cliente     Año  Mes  ClaseEnvase  SegmentoPrecio  Marca  Cupo  \\\n",
       "8576    5496.0  2018.0  1.0          1.0             1.0   39.0  20.0   \n",
       "12038   8116.0  2018.0  1.0          2.0             1.0   39.0  20.0   \n",
       "13117   8831.0  2018.0  1.0          1.0             1.0   39.0  20.0   \n",
       "31918   8387.0  2018.0  1.0          1.0             1.0   39.0  20.0   \n",
       "46       188.0  2018.0  1.0          2.0             1.0   40.0  16.0   \n",
       "\n",
       "              Nr    Hl  Dcto marca_cupo  target_pos   ganancia  propor_des_in  \\\n",
       "8576     8084.56  0.02   0.0      39_20         0.0    8084.56            0.0   \n",
       "12038   28235.75  0.09   0.0      39_20         0.0   28235.75            0.0   \n",
       "13117    8234.57  0.02   0.0      39_20         0.0    8234.57            0.0   \n",
       "31918   48507.38  0.14   0.0      39_20         0.0   48507.38            0.0   \n",
       "46     115610.44  0.36   0.0      40_16         0.0  115610.44            0.0   \n",
       "\n",
       "       ganancia_pi   id_full_c  \n",
       "8576           1.0  5496_39_20  \n",
       "12038          1.0  8116_39_20  \n",
       "13117          1.0  8831_39_20  \n",
       "31918          1.0  8387_39_20  \n",
       "46             1.0   188_40_16  "
      ]
     },
     "execution_count": 249,
     "metadata": {},
     "output_type": "execute_result"
    }
   ],
   "source": [
    "test_sal1.head()"
   ]
  },
  {
   "cell_type": "code",
   "execution_count": 250,
   "metadata": {},
   "outputs": [],
   "source": [
    "test_sal1=test_sal1.reset_index(drop=True)"
   ]
  },
  {
   "cell_type": "code",
   "execution_count": 251,
   "metadata": {},
   "outputs": [],
   "source": [
    "long=lambda x:len(x)\n",
    "long.__name__='len'\n",
    "fi=lambda x: 0 if  x.split('1')[-1]=='' else len(x.split('1')[-1])/len(x)\n",
    "fi.__name__='0antes_target'\n",
    "propor=lambda x:x.sum()/len(x)\n",
    "propor.__name__='proporcion_target'"
   ]
  },
  {
   "cell_type": "code",
   "execution_count": 252,
   "metadata": {},
   "outputs": [],
   "source": [
    "test_sal2=test_sal1.groupby(['id_full_c']).agg({'Nr':['sum','mean','std','median'],'target_pos':['sum',long,propor],'Hl':['sum','mean'],'ganancia':['sum','mean'],\n",
    "                                              'propor_des_in':['mean','sum'],'ganancia_pi':['mean','sum']})"
   ]
  },
  {
   "cell_type": "code",
   "execution_count": 253,
   "metadata": {},
   "outputs": [
    {
     "data": {
      "text/html": [
       "<div>\n",
       "<style scoped>\n",
       "    .dataframe tbody tr th:only-of-type {\n",
       "        vertical-align: middle;\n",
       "    }\n",
       "\n",
       "    .dataframe tbody tr th {\n",
       "        vertical-align: top;\n",
       "    }\n",
       "\n",
       "    .dataframe thead tr th {\n",
       "        text-align: left;\n",
       "    }\n",
       "\n",
       "    .dataframe thead tr:last-of-type th {\n",
       "        text-align: right;\n",
       "    }\n",
       "</style>\n",
       "<table border=\"1\" class=\"dataframe\">\n",
       "  <thead>\n",
       "    <tr>\n",
       "      <th></th>\n",
       "      <th colspan=\"4\" halign=\"left\">Nr</th>\n",
       "      <th colspan=\"3\" halign=\"left\">target_pos</th>\n",
       "      <th colspan=\"2\" halign=\"left\">Hl</th>\n",
       "      <th colspan=\"2\" halign=\"left\">ganancia</th>\n",
       "      <th colspan=\"2\" halign=\"left\">propor_des_in</th>\n",
       "      <th colspan=\"2\" halign=\"left\">ganancia_pi</th>\n",
       "    </tr>\n",
       "    <tr>\n",
       "      <th></th>\n",
       "      <th>sum</th>\n",
       "      <th>mean</th>\n",
       "      <th>std</th>\n",
       "      <th>median</th>\n",
       "      <th>sum</th>\n",
       "      <th>len</th>\n",
       "      <th>proporcion_target</th>\n",
       "      <th>sum</th>\n",
       "      <th>mean</th>\n",
       "      <th>sum</th>\n",
       "      <th>mean</th>\n",
       "      <th>mean</th>\n",
       "      <th>sum</th>\n",
       "      <th>mean</th>\n",
       "      <th>sum</th>\n",
       "    </tr>\n",
       "    <tr>\n",
       "      <th>id_full_c</th>\n",
       "      <th></th>\n",
       "      <th></th>\n",
       "      <th></th>\n",
       "      <th></th>\n",
       "      <th></th>\n",
       "      <th></th>\n",
       "      <th></th>\n",
       "      <th></th>\n",
       "      <th></th>\n",
       "      <th></th>\n",
       "      <th></th>\n",
       "      <th></th>\n",
       "      <th></th>\n",
       "      <th></th>\n",
       "      <th></th>\n",
       "    </tr>\n",
       "  </thead>\n",
       "  <tbody>\n",
       "    <tr>\n",
       "      <th>10001_39_20</th>\n",
       "      <td>189409.93</td>\n",
       "      <td>21045.547778</td>\n",
       "      <td>14331.521658</td>\n",
       "      <td>9496.280</td>\n",
       "      <td>1.0</td>\n",
       "      <td>9.0</td>\n",
       "      <td>0.111111</td>\n",
       "      <td>0.60</td>\n",
       "      <td>0.066667</td>\n",
       "      <td>188159.05</td>\n",
       "      <td>20906.561111</td>\n",
       "      <td>0.016784</td>\n",
       "      <td>0.151060</td>\n",
       "      <td>0.983216</td>\n",
       "      <td>8.848940</td>\n",
       "    </tr>\n",
       "    <tr>\n",
       "      <th>10001_40_16</th>\n",
       "      <td>1252657.10</td>\n",
       "      <td>73685.711765</td>\n",
       "      <td>70349.837768</td>\n",
       "      <td>57027.690</td>\n",
       "      <td>11.0</td>\n",
       "      <td>17.0</td>\n",
       "      <td>0.647059</td>\n",
       "      <td>4.95</td>\n",
       "      <td>0.291176</td>\n",
       "      <td>963916.44</td>\n",
       "      <td>56700.967059</td>\n",
       "      <td>0.580105</td>\n",
       "      <td>9.861782</td>\n",
       "      <td>0.419895</td>\n",
       "      <td>7.138218</td>\n",
       "    </tr>\n",
       "    <tr>\n",
       "      <th>10002_40_16</th>\n",
       "      <td>3914332.11</td>\n",
       "      <td>244645.756875</td>\n",
       "      <td>271603.476717</td>\n",
       "      <td>169115.700</td>\n",
       "      <td>4.0</td>\n",
       "      <td>16.0</td>\n",
       "      <td>0.250000</td>\n",
       "      <td>12.41</td>\n",
       "      <td>0.775625</td>\n",
       "      <td>3845108.19</td>\n",
       "      <td>240319.261875</td>\n",
       "      <td>0.020639</td>\n",
       "      <td>0.330228</td>\n",
       "      <td>0.979361</td>\n",
       "      <td>15.669772</td>\n",
       "    </tr>\n",
       "    <tr>\n",
       "      <th>10007_40_16</th>\n",
       "      <td>1155604.45</td>\n",
       "      <td>82543.175000</td>\n",
       "      <td>42461.070966</td>\n",
       "      <td>72571.900</td>\n",
       "      <td>3.0</td>\n",
       "      <td>14.0</td>\n",
       "      <td>0.214286</td>\n",
       "      <td>3.65</td>\n",
       "      <td>0.260714</td>\n",
       "      <td>1140779.62</td>\n",
       "      <td>81484.258571</td>\n",
       "      <td>0.009990</td>\n",
       "      <td>0.139866</td>\n",
       "      <td>0.990010</td>\n",
       "      <td>13.860134</td>\n",
       "    </tr>\n",
       "    <tr>\n",
       "      <th>10008_40_16</th>\n",
       "      <td>327181.23</td>\n",
       "      <td>20448.826875</td>\n",
       "      <td>13953.743075</td>\n",
       "      <td>18521.505</td>\n",
       "      <td>3.0</td>\n",
       "      <td>16.0</td>\n",
       "      <td>0.187500</td>\n",
       "      <td>1.05</td>\n",
       "      <td>0.065625</td>\n",
       "      <td>320306.08</td>\n",
       "      <td>20019.130000</td>\n",
       "      <td>0.017106</td>\n",
       "      <td>0.273689</td>\n",
       "      <td>0.982894</td>\n",
       "      <td>15.726311</td>\n",
       "    </tr>\n",
       "  </tbody>\n",
       "</table>\n",
       "</div>"
      ],
      "text/plain": [
       "                     Nr                                           target_pos  \\\n",
       "                    sum           mean            std      median        sum   \n",
       "id_full_c                                                                      \n",
       "10001_39_20   189409.93   21045.547778   14331.521658    9496.280        1.0   \n",
       "10001_40_16  1252657.10   73685.711765   70349.837768   57027.690       11.0   \n",
       "10002_40_16  3914332.11  244645.756875  271603.476717  169115.700        4.0   \n",
       "10007_40_16  1155604.45   82543.175000   42461.070966   72571.900        3.0   \n",
       "10008_40_16   327181.23   20448.826875   13953.743075   18521.505        3.0   \n",
       "\n",
       "                                        Hl              ganancia  \\\n",
       "              len proporcion_target    sum      mean         sum   \n",
       "id_full_c                                                          \n",
       "10001_39_20   9.0          0.111111   0.60  0.066667   188159.05   \n",
       "10001_40_16  17.0          0.647059   4.95  0.291176   963916.44   \n",
       "10002_40_16  16.0          0.250000  12.41  0.775625  3845108.19   \n",
       "10007_40_16  14.0          0.214286   3.65  0.260714  1140779.62   \n",
       "10008_40_16  16.0          0.187500   1.05  0.065625   320306.08   \n",
       "\n",
       "                           propor_des_in           ganancia_pi             \n",
       "                      mean          mean       sum        mean        sum  \n",
       "id_full_c                                                                  \n",
       "10001_39_20   20906.561111      0.016784  0.151060    0.983216   8.848940  \n",
       "10001_40_16   56700.967059      0.580105  9.861782    0.419895   7.138218  \n",
       "10002_40_16  240319.261875      0.020639  0.330228    0.979361  15.669772  \n",
       "10007_40_16   81484.258571      0.009990  0.139866    0.990010  13.860134  \n",
       "10008_40_16   20019.130000      0.017106  0.273689    0.982894  15.726311  "
      ]
     },
     "execution_count": 253,
     "metadata": {},
     "output_type": "execute_result"
    }
   ],
   "source": [
    "test_sal2.head()"
   ]
  },
  {
   "cell_type": "code",
   "execution_count": 254,
   "metadata": {},
   "outputs": [],
   "source": [
    "test_sal2.columns=['_'.join(col).strip() for col in test_sal2.columns]"
   ]
  },
  {
   "cell_type": "code",
   "execution_count": 255,
   "metadata": {},
   "outputs": [],
   "source": [
    "test_sal2=test_sal2.reset_index()"
   ]
  },
  {
   "cell_type": "code",
   "execution_count": 256,
   "metadata": {},
   "outputs": [
    {
     "data": {
      "text/html": [
       "<div>\n",
       "<style scoped>\n",
       "    .dataframe tbody tr th:only-of-type {\n",
       "        vertical-align: middle;\n",
       "    }\n",
       "\n",
       "    .dataframe tbody tr th {\n",
       "        vertical-align: top;\n",
       "    }\n",
       "\n",
       "    .dataframe thead th {\n",
       "        text-align: right;\n",
       "    }\n",
       "</style>\n",
       "<table border=\"1\" class=\"dataframe\">\n",
       "  <thead>\n",
       "    <tr style=\"text-align: right;\">\n",
       "      <th></th>\n",
       "      <th>id_full_c</th>\n",
       "      <th>Nr_sum</th>\n",
       "      <th>Nr_mean</th>\n",
       "      <th>Nr_std</th>\n",
       "      <th>Nr_median</th>\n",
       "      <th>target_pos_sum</th>\n",
       "      <th>target_pos_len</th>\n",
       "      <th>target_pos_proporcion_target</th>\n",
       "      <th>Hl_sum</th>\n",
       "      <th>Hl_mean</th>\n",
       "      <th>ganancia_sum</th>\n",
       "      <th>ganancia_mean</th>\n",
       "      <th>propor_des_in_mean</th>\n",
       "      <th>propor_des_in_sum</th>\n",
       "      <th>ganancia_pi_mean</th>\n",
       "      <th>ganancia_pi_sum</th>\n",
       "    </tr>\n",
       "  </thead>\n",
       "  <tbody>\n",
       "    <tr>\n",
       "      <th>0</th>\n",
       "      <td>10001_39_20</td>\n",
       "      <td>189409.93</td>\n",
       "      <td>21045.547778</td>\n",
       "      <td>14331.521658</td>\n",
       "      <td>9496.280</td>\n",
       "      <td>1.0</td>\n",
       "      <td>9.0</td>\n",
       "      <td>0.111111</td>\n",
       "      <td>0.60</td>\n",
       "      <td>0.066667</td>\n",
       "      <td>188159.05</td>\n",
       "      <td>20906.561111</td>\n",
       "      <td>0.016784</td>\n",
       "      <td>0.151060</td>\n",
       "      <td>0.983216</td>\n",
       "      <td>8.848940</td>\n",
       "    </tr>\n",
       "    <tr>\n",
       "      <th>1</th>\n",
       "      <td>10001_40_16</td>\n",
       "      <td>1252657.10</td>\n",
       "      <td>73685.711765</td>\n",
       "      <td>70349.837768</td>\n",
       "      <td>57027.690</td>\n",
       "      <td>11.0</td>\n",
       "      <td>17.0</td>\n",
       "      <td>0.647059</td>\n",
       "      <td>4.95</td>\n",
       "      <td>0.291176</td>\n",
       "      <td>963916.44</td>\n",
       "      <td>56700.967059</td>\n",
       "      <td>0.580105</td>\n",
       "      <td>9.861782</td>\n",
       "      <td>0.419895</td>\n",
       "      <td>7.138218</td>\n",
       "    </tr>\n",
       "    <tr>\n",
       "      <th>2</th>\n",
       "      <td>10002_40_16</td>\n",
       "      <td>3914332.11</td>\n",
       "      <td>244645.756875</td>\n",
       "      <td>271603.476717</td>\n",
       "      <td>169115.700</td>\n",
       "      <td>4.0</td>\n",
       "      <td>16.0</td>\n",
       "      <td>0.250000</td>\n",
       "      <td>12.41</td>\n",
       "      <td>0.775625</td>\n",
       "      <td>3845108.19</td>\n",
       "      <td>240319.261875</td>\n",
       "      <td>0.020639</td>\n",
       "      <td>0.330228</td>\n",
       "      <td>0.979361</td>\n",
       "      <td>15.669772</td>\n",
       "    </tr>\n",
       "    <tr>\n",
       "      <th>3</th>\n",
       "      <td>10007_40_16</td>\n",
       "      <td>1155604.45</td>\n",
       "      <td>82543.175000</td>\n",
       "      <td>42461.070966</td>\n",
       "      <td>72571.900</td>\n",
       "      <td>3.0</td>\n",
       "      <td>14.0</td>\n",
       "      <td>0.214286</td>\n",
       "      <td>3.65</td>\n",
       "      <td>0.260714</td>\n",
       "      <td>1140779.62</td>\n",
       "      <td>81484.258571</td>\n",
       "      <td>0.009990</td>\n",
       "      <td>0.139866</td>\n",
       "      <td>0.990010</td>\n",
       "      <td>13.860134</td>\n",
       "    </tr>\n",
       "    <tr>\n",
       "      <th>4</th>\n",
       "      <td>10008_40_16</td>\n",
       "      <td>327181.23</td>\n",
       "      <td>20448.826875</td>\n",
       "      <td>13953.743075</td>\n",
       "      <td>18521.505</td>\n",
       "      <td>3.0</td>\n",
       "      <td>16.0</td>\n",
       "      <td>0.187500</td>\n",
       "      <td>1.05</td>\n",
       "      <td>0.065625</td>\n",
       "      <td>320306.08</td>\n",
       "      <td>20019.130000</td>\n",
       "      <td>0.017106</td>\n",
       "      <td>0.273689</td>\n",
       "      <td>0.982894</td>\n",
       "      <td>15.726311</td>\n",
       "    </tr>\n",
       "  </tbody>\n",
       "</table>\n",
       "</div>"
      ],
      "text/plain": [
       "     id_full_c      Nr_sum        Nr_mean         Nr_std   Nr_median  \\\n",
       "0  10001_39_20   189409.93   21045.547778   14331.521658    9496.280   \n",
       "1  10001_40_16  1252657.10   73685.711765   70349.837768   57027.690   \n",
       "2  10002_40_16  3914332.11  244645.756875  271603.476717  169115.700   \n",
       "3  10007_40_16  1155604.45   82543.175000   42461.070966   72571.900   \n",
       "4  10008_40_16   327181.23   20448.826875   13953.743075   18521.505   \n",
       "\n",
       "   target_pos_sum  target_pos_len  target_pos_proporcion_target  Hl_sum  \\\n",
       "0             1.0             9.0                      0.111111    0.60   \n",
       "1            11.0            17.0                      0.647059    4.95   \n",
       "2             4.0            16.0                      0.250000   12.41   \n",
       "3             3.0            14.0                      0.214286    3.65   \n",
       "4             3.0            16.0                      0.187500    1.05   \n",
       "\n",
       "    Hl_mean  ganancia_sum  ganancia_mean  propor_des_in_mean  \\\n",
       "0  0.066667     188159.05   20906.561111            0.016784   \n",
       "1  0.291176     963916.44   56700.967059            0.580105   \n",
       "2  0.775625    3845108.19  240319.261875            0.020639   \n",
       "3  0.260714    1140779.62   81484.258571            0.009990   \n",
       "4  0.065625     320306.08   20019.130000            0.017106   \n",
       "\n",
       "   propor_des_in_sum  ganancia_pi_mean  ganancia_pi_sum  \n",
       "0           0.151060          0.983216         8.848940  \n",
       "1           9.861782          0.419895         7.138218  \n",
       "2           0.330228          0.979361        15.669772  \n",
       "3           0.139866          0.990010        13.860134  \n",
       "4           0.273689          0.982894        15.726311  "
      ]
     },
     "execution_count": 256,
     "metadata": {},
     "output_type": "execute_result"
    }
   ],
   "source": [
    "test_sal2.head()"
   ]
  },
  {
   "cell_type": "code",
   "execution_count": 257,
   "metadata": {},
   "outputs": [],
   "source": [
    "ultimo_tg=lambda x:x.tail(1).values\n",
    "ultimo_tg.__name__='target_ult'"
   ]
  },
  {
   "cell_type": "code",
   "execution_count": 258,
   "metadata": {},
   "outputs": [],
   "source": [
    "test_tg=test_sal.groupby(['id_full']).agg({'target_pos':ultimo_tg}).reset_index()"
   ]
  },
  {
   "cell_type": "code",
   "execution_count": 341,
   "metadata": {},
   "outputs": [
    {
     "data": {
      "text/html": [
       "<div>\n",
       "<style scoped>\n",
       "    .dataframe tbody tr th:only-of-type {\n",
       "        vertical-align: middle;\n",
       "    }\n",
       "\n",
       "    .dataframe tbody tr th {\n",
       "        vertical-align: top;\n",
       "    }\n",
       "\n",
       "    .dataframe thead th {\n",
       "        text-align: right;\n",
       "    }\n",
       "</style>\n",
       "<table border=\"1\" class=\"dataframe\">\n",
       "  <thead>\n",
       "    <tr style=\"text-align: right;\">\n",
       "      <th></th>\n",
       "      <th>id_full</th>\n",
       "      <th>target_pos</th>\n",
       "    </tr>\n",
       "  </thead>\n",
       "  <tbody>\n",
       "    <tr>\n",
       "      <th>0</th>\n",
       "      <td>10001_39_20</td>\n",
       "      <td>0</td>\n",
       "    </tr>\n",
       "    <tr>\n",
       "      <th>1</th>\n",
       "      <td>10001_40_16</td>\n",
       "      <td>0</td>\n",
       "    </tr>\n",
       "    <tr>\n",
       "      <th>2</th>\n",
       "      <td>10002_40_16</td>\n",
       "      <td>1</td>\n",
       "    </tr>\n",
       "    <tr>\n",
       "      <th>3</th>\n",
       "      <td>10007_40_16</td>\n",
       "      <td>0</td>\n",
       "    </tr>\n",
       "    <tr>\n",
       "      <th>4</th>\n",
       "      <td>10008_40_16</td>\n",
       "      <td>1</td>\n",
       "    </tr>\n",
       "  </tbody>\n",
       "</table>\n",
       "</div>"
      ],
      "text/plain": [
       "       id_full  target_pos\n",
       "0  10001_39_20           0\n",
       "1  10001_40_16           0\n",
       "2  10002_40_16           1\n",
       "3  10007_40_16           0\n",
       "4  10008_40_16           1"
      ]
     },
     "execution_count": 341,
     "metadata": {},
     "output_type": "execute_result"
    }
   ],
   "source": [
    "test_tg.head()"
   ]
  },
  {
   "cell_type": "code",
   "execution_count": 342,
   "metadata": {},
   "outputs": [],
   "source": [
    "test_tg1=test_tg.copy()"
   ]
  },
  {
   "cell_type": "code",
   "execution_count": 343,
   "metadata": {},
   "outputs": [],
   "source": [
    "marcas=pd.merge(test[['id_full','Marca']],test_tg,how='inner',on='id_full')"
   ]
  },
  {
   "cell_type": "code",
   "execution_count": 347,
   "metadata": {},
   "outputs": [
    {
     "data": {
      "text/plain": [
       "Marca\n",
       "29     902\n",
       "39     475\n",
       "40    2794\n",
       "Name: target_pos, dtype: int32"
      ]
     },
     "execution_count": 347,
     "metadata": {},
     "output_type": "execute_result"
    }
   ],
   "source": [
    "marcas.groupby('Marca')['target_pos'].sum()"
   ]
  },
  {
   "cell_type": "code",
   "execution_count": 348,
   "metadata": {},
   "outputs": [
    {
     "data": {
      "text/plain": [
       "40    6122\n",
       "29    2892\n",
       "39    1610\n",
       "Name: Marca, dtype: int64"
      ]
     },
     "execution_count": 348,
     "metadata": {},
     "output_type": "execute_result"
    }
   ],
   "source": [
    "marcas.Marca.value_counts()"
   ]
  },
  {
   "cell_type": "code",
   "execution_count": 260,
   "metadata": {},
   "outputs": [
    {
     "data": {
      "text/plain": [
       "0    6453\n",
       "1    4171\n",
       "Name: target_pos, dtype: int64"
      ]
     },
     "execution_count": 260,
     "metadata": {},
     "output_type": "execute_result"
    }
   ],
   "source": [
    "test_tg.target_pos.value_counts()"
   ]
  },
  {
   "cell_type": "code",
   "execution_count": null,
   "metadata": {},
   "outputs": [],
   "source": []
  },
  {
   "cell_type": "code",
   "execution_count": 261,
   "metadata": {},
   "outputs": [],
   "source": [
    "valor_01=lambda x:''.join(list(x.map(str)))"
   ]
  },
  {
   "cell_type": "code",
   "execution_count": 262,
   "metadata": {},
   "outputs": [],
   "source": [
    "#################################3 hacems la probabilidad#########################"
   ]
  },
  {
   "cell_type": "code",
   "execution_count": 263,
   "metadata": {},
   "outputs": [],
   "source": [
    "test_sal1['target_pos']=test_sal1['target_pos'].astype(int)"
   ]
  },
  {
   "cell_type": "code",
   "execution_count": 264,
   "metadata": {},
   "outputs": [],
   "source": [
    "v1=test_sal1.groupby(['id_full_c']).agg({'target_pos':valor_01})"
   ]
  },
  {
   "cell_type": "code",
   "execution_count": 265,
   "metadata": {},
   "outputs": [],
   "source": [
    "v1=v1.reset_index()"
   ]
  },
  {
   "cell_type": "code",
   "execution_count": 266,
   "metadata": {},
   "outputs": [],
   "source": [
    "v1['target_pos_proba']=v1['target_pos'].apply(fi)"
   ]
  },
  {
   "cell_type": "code",
   "execution_count": 267,
   "metadata": {},
   "outputs": [],
   "source": [
    "test_sal3=pd.merge(test_sal2,v1[['id_full_c','target_pos_proba']],how='inner',on='id_full_c')"
   ]
  },
  {
   "cell_type": "code",
   "execution_count": 268,
   "metadata": {},
   "outputs": [
    {
     "data": {
      "text/html": [
       "<div>\n",
       "<style scoped>\n",
       "    .dataframe tbody tr th:only-of-type {\n",
       "        vertical-align: middle;\n",
       "    }\n",
       "\n",
       "    .dataframe tbody tr th {\n",
       "        vertical-align: top;\n",
       "    }\n",
       "\n",
       "    .dataframe thead th {\n",
       "        text-align: right;\n",
       "    }\n",
       "</style>\n",
       "<table border=\"1\" class=\"dataframe\">\n",
       "  <thead>\n",
       "    <tr style=\"text-align: right;\">\n",
       "      <th></th>\n",
       "      <th>id_full_c</th>\n",
       "      <th>Nr_sum</th>\n",
       "      <th>Nr_mean</th>\n",
       "      <th>Nr_std</th>\n",
       "      <th>Nr_median</th>\n",
       "      <th>target_pos_sum</th>\n",
       "      <th>target_pos_len</th>\n",
       "      <th>target_pos_proporcion_target</th>\n",
       "      <th>Hl_sum</th>\n",
       "      <th>Hl_mean</th>\n",
       "      <th>ganancia_sum</th>\n",
       "      <th>ganancia_mean</th>\n",
       "      <th>propor_des_in_mean</th>\n",
       "      <th>propor_des_in_sum</th>\n",
       "      <th>ganancia_pi_mean</th>\n",
       "      <th>ganancia_pi_sum</th>\n",
       "      <th>target_pos_proba</th>\n",
       "    </tr>\n",
       "  </thead>\n",
       "  <tbody>\n",
       "    <tr>\n",
       "      <th>0</th>\n",
       "      <td>10001_39_20</td>\n",
       "      <td>189409.93</td>\n",
       "      <td>21045.547778</td>\n",
       "      <td>14331.521658</td>\n",
       "      <td>9496.280</td>\n",
       "      <td>1.0</td>\n",
       "      <td>9.0</td>\n",
       "      <td>0.111111</td>\n",
       "      <td>0.60</td>\n",
       "      <td>0.066667</td>\n",
       "      <td>188159.05</td>\n",
       "      <td>20906.561111</td>\n",
       "      <td>0.016784</td>\n",
       "      <td>0.151060</td>\n",
       "      <td>0.983216</td>\n",
       "      <td>8.848940</td>\n",
       "      <td>0.000000</td>\n",
       "    </tr>\n",
       "    <tr>\n",
       "      <th>1</th>\n",
       "      <td>10001_40_16</td>\n",
       "      <td>1252657.10</td>\n",
       "      <td>73685.711765</td>\n",
       "      <td>70349.837768</td>\n",
       "      <td>57027.690</td>\n",
       "      <td>11.0</td>\n",
       "      <td>17.0</td>\n",
       "      <td>0.647059</td>\n",
       "      <td>4.95</td>\n",
       "      <td>0.291176</td>\n",
       "      <td>963916.44</td>\n",
       "      <td>56700.967059</td>\n",
       "      <td>0.580105</td>\n",
       "      <td>9.861782</td>\n",
       "      <td>0.419895</td>\n",
       "      <td>7.138218</td>\n",
       "      <td>0.117647</td>\n",
       "    </tr>\n",
       "    <tr>\n",
       "      <th>2</th>\n",
       "      <td>10002_40_16</td>\n",
       "      <td>3914332.11</td>\n",
       "      <td>244645.756875</td>\n",
       "      <td>271603.476717</td>\n",
       "      <td>169115.700</td>\n",
       "      <td>4.0</td>\n",
       "      <td>16.0</td>\n",
       "      <td>0.250000</td>\n",
       "      <td>12.41</td>\n",
       "      <td>0.775625</td>\n",
       "      <td>3845108.19</td>\n",
       "      <td>240319.261875</td>\n",
       "      <td>0.020639</td>\n",
       "      <td>0.330228</td>\n",
       "      <td>0.979361</td>\n",
       "      <td>15.669772</td>\n",
       "      <td>0.062500</td>\n",
       "    </tr>\n",
       "    <tr>\n",
       "      <th>3</th>\n",
       "      <td>10007_40_16</td>\n",
       "      <td>1155604.45</td>\n",
       "      <td>82543.175000</td>\n",
       "      <td>42461.070966</td>\n",
       "      <td>72571.900</td>\n",
       "      <td>3.0</td>\n",
       "      <td>14.0</td>\n",
       "      <td>0.214286</td>\n",
       "      <td>3.65</td>\n",
       "      <td>0.260714</td>\n",
       "      <td>1140779.62</td>\n",
       "      <td>81484.258571</td>\n",
       "      <td>0.009990</td>\n",
       "      <td>0.139866</td>\n",
       "      <td>0.990010</td>\n",
       "      <td>13.860134</td>\n",
       "      <td>0.500000</td>\n",
       "    </tr>\n",
       "    <tr>\n",
       "      <th>4</th>\n",
       "      <td>10008_40_16</td>\n",
       "      <td>327181.23</td>\n",
       "      <td>20448.826875</td>\n",
       "      <td>13953.743075</td>\n",
       "      <td>18521.505</td>\n",
       "      <td>3.0</td>\n",
       "      <td>16.0</td>\n",
       "      <td>0.187500</td>\n",
       "      <td>1.05</td>\n",
       "      <td>0.065625</td>\n",
       "      <td>320306.08</td>\n",
       "      <td>20019.130000</td>\n",
       "      <td>0.017106</td>\n",
       "      <td>0.273689</td>\n",
       "      <td>0.982894</td>\n",
       "      <td>15.726311</td>\n",
       "      <td>0.312500</td>\n",
       "    </tr>\n",
       "  </tbody>\n",
       "</table>\n",
       "</div>"
      ],
      "text/plain": [
       "     id_full_c      Nr_sum        Nr_mean         Nr_std   Nr_median  \\\n",
       "0  10001_39_20   189409.93   21045.547778   14331.521658    9496.280   \n",
       "1  10001_40_16  1252657.10   73685.711765   70349.837768   57027.690   \n",
       "2  10002_40_16  3914332.11  244645.756875  271603.476717  169115.700   \n",
       "3  10007_40_16  1155604.45   82543.175000   42461.070966   72571.900   \n",
       "4  10008_40_16   327181.23   20448.826875   13953.743075   18521.505   \n",
       "\n",
       "   target_pos_sum  target_pos_len  target_pos_proporcion_target  Hl_sum  \\\n",
       "0             1.0             9.0                      0.111111    0.60   \n",
       "1            11.0            17.0                      0.647059    4.95   \n",
       "2             4.0            16.0                      0.250000   12.41   \n",
       "3             3.0            14.0                      0.214286    3.65   \n",
       "4             3.0            16.0                      0.187500    1.05   \n",
       "\n",
       "    Hl_mean  ganancia_sum  ganancia_mean  propor_des_in_mean  \\\n",
       "0  0.066667     188159.05   20906.561111            0.016784   \n",
       "1  0.291176     963916.44   56700.967059            0.580105   \n",
       "2  0.775625    3845108.19  240319.261875            0.020639   \n",
       "3  0.260714    1140779.62   81484.258571            0.009990   \n",
       "4  0.065625     320306.08   20019.130000            0.017106   \n",
       "\n",
       "   propor_des_in_sum  ganancia_pi_mean  ganancia_pi_sum  target_pos_proba  \n",
       "0           0.151060          0.983216         8.848940          0.000000  \n",
       "1           9.861782          0.419895         7.138218          0.117647  \n",
       "2           0.330228          0.979361        15.669772          0.062500  \n",
       "3           0.139866          0.990010        13.860134          0.500000  \n",
       "4           0.273689          0.982894        15.726311          0.312500  "
      ]
     },
     "execution_count": 268,
     "metadata": {},
     "output_type": "execute_result"
    }
   ],
   "source": [
    "test_sal3.head()"
   ]
  },
  {
   "cell_type": "code",
   "execution_count": 269,
   "metadata": {},
   "outputs": [],
   "source": [
    "test_sal3.rename(columns={'id_full_c':'id_full'},inplace=True)"
   ]
  },
  {
   "cell_type": "code",
   "execution_count": 270,
   "metadata": {},
   "outputs": [],
   "source": [
    "test_sal4=pd.merge(test_tg,test_sal3,how='inner',on='id_full')"
   ]
  },
  {
   "cell_type": "code",
   "execution_count": 271,
   "metadata": {},
   "outputs": [],
   "source": [
    "from sklearn.model_selection import train_test_split\n",
    "import lightgbm as lgb\n",
    "train_total1=test_sal4.drop(['id_full'],axis=1)\n",
    "Trainx, Testx = train_test_split(train_total1, test_size = 0.3,random_state=42)"
   ]
  },
  {
   "cell_type": "code",
   "execution_count": 272,
   "metadata": {},
   "outputs": [],
   "source": [
    "entrena = Trainx.drop(['target_pos'], axis=1)\n",
    "target = Trainx[\"target_pos\"]\n",
    "prueba = Testx.drop(['target_pos'], axis=1)\n",
    "target_prueba = Testx[\"target_pos\"]"
   ]
  },
  {
   "cell_type": "code",
   "execution_count": 273,
   "metadata": {},
   "outputs": [],
   "source": [
    "parameters = {\n",
    "    'objective': 'binary',\n",
    "    'metric': 'auc',\n",
    "    'is_unbalance': 'true',\n",
    "    'boosting': 'gbdt',\n",
    "    'num_leaves': 31,\n",
    "    'feature_fraction': 0.8,\n",
    "    'bagging_fraction': 0.8,\n",
    "    'bagging_freq': 16,\n",
    "    'learning_rate': 0.01,\n",
    "    'verbose': -1,\n",
    "    'max_depth': -1,\n",
    "    'tree_learner': 'serial',\n",
    "    'num_threads': 17,\n",
    "    'min_data_in_leaf': 20,\n",
    "    'min_sum_hessian_in_leaf': 10.0\n",
    "    \n",
    "}"
   ]
  },
  {
   "cell_type": "code",
   "execution_count": 274,
   "metadata": {},
   "outputs": [],
   "source": [
    "from sklearn.metrics import f1_score\n",
    "def lgb_f1(preds,dtrain):\n",
    "    labels=dtrain.get_label()\n",
    "    preds=np.round(preds)\n",
    "    score=f1_score(labels,preds,average='macro')\n",
    "    return  ('f1_score', score, True)"
   ]
  },
  {
   "cell_type": "code",
   "execution_count": 275,
   "metadata": {},
   "outputs": [],
   "source": [
    "dtrain1 = lgb.Dataset(entrena, label=target)\n",
    "dvalid1 = lgb.Dataset(prueba, label=target_prueba)"
   ]
  },
  {
   "cell_type": "code",
   "execution_count": 332,
   "metadata": {},
   "outputs": [
    {
     "name": "stdout",
     "output_type": "stream",
     "text": [
      "Training until validation scores don't improve for 50 rounds\n",
      "[100]\ttraining's auc: 0.826247\ttraining's f1_score: 0.742938\tvalid_1's auc: 0.767619\tvalid_1's f1_score: 0.698865\n",
      "[200]\ttraining's auc: 0.844267\ttraining's f1_score: 0.759849\tvalid_1's auc: 0.769532\tvalid_1's f1_score: 0.703796\n",
      "Early stopping, best iteration is:\n",
      "[188]\ttraining's auc: 0.842233\ttraining's f1_score: 0.759621\tvalid_1's auc: 0.769266\tvalid_1's f1_score: 0.706324\n"
     ]
    }
   ],
   "source": [
    "num_round = 1000\n",
    "clf = lgb.train(parameters, dtrain1, num_round, valid_sets = [dtrain1, dvalid1], verbose_eval=100, early_stopping_rounds = 50,feval=lgb_f1)"
   ]
  },
  {
   "cell_type": "code",
   "execution_count": 333,
   "metadata": {},
   "outputs": [
    {
     "data": {
      "text/plain": [
       "<matplotlib.axes._subplots.AxesSubplot at 0x25c18ca92b0>"
      ]
     },
     "execution_count": 333,
     "metadata": {},
     "output_type": "execute_result"
    },
    {
     "data": {
      "image/png": "[encoded data removed]",
      "text/plain": [
       "<Figure size 432x288 with 1 Axes>"
      ]
     },
     "metadata": {
      "needs_background": "light"
     },
     "output_type": "display_data"
    }
   ],
   "source": [
    "lgb.plot_importance(clf, max_num_features=29, importance_type='split')"
   ]
  },
  {
   "cell_type": "code",
   "execution_count": null,
   "metadata": {},
   "outputs": [],
   "source": [
    "test_pred=test_sal.groupby(['id_full']).agg({'Nr':['sum','mean'],'target_pos':['sum',long1],'Hl':['sum','mean'],'ganancia':['sum','mean']})"
   ]
  },
  {
   "cell_type": "code",
   "execution_count": null,
   "metadata": {},
   "outputs": [],
   "source": []
  },
  {
   "cell_type": "code",
   "execution_count": null,
   "metadata": {},
   "outputs": [],
   "source": [
    "#####################################3"
   ]
  },
  {
   "cell_type": "code",
   "execution_count": 278,
   "metadata": {},
   "outputs": [],
   "source": [
    "ejecutar_promo['ejecutaron']=1"
   ]
  },
  {
   "cell_type": "code",
   "execution_count": 279,
   "metadata": {},
   "outputs": [],
   "source": [
    "ejecutar_promo1=ejecutar_promo[['CodigoDC','id_full','ejecutaron']]"
   ]
  },
  {
   "cell_type": "code",
   "execution_count": 280,
   "metadata": {},
   "outputs": [],
   "source": [
    "merge1=pd.merge(active_promos,ejecutar_promo1,how='left',on=['id_full','CodigoDC'])"
   ]
  },
  {
   "cell_type": "code",
   "execution_count": 281,
   "metadata": {},
   "outputs": [],
   "source": [
    "merge1['ejecutaron']=merge1['ejecutaron'].fillna(0)"
   ]
  },
  {
   "cell_type": "code",
   "execution_count": 282,
   "metadata": {},
   "outputs": [],
   "source": [
    "merge1['Fecha_Desde']=pd.to_datetime(merge1['Fecha_Desde'])\n",
    "merge1['Fecha_Hasta']=pd.to_datetime(merge1['Fecha_Hasta'])"
   ]
  },
  {
   "cell_type": "code",
   "execution_count": 283,
   "metadata": {},
   "outputs": [],
   "source": [
    "merge1['diff_fecha']=(merge1['Fecha_Hasta']-merge1['Fecha_Desde']).dt.days"
   ]
  },
  {
   "cell_type": "code",
   "execution_count": 284,
   "metadata": {},
   "outputs": [],
   "source": [
    "merge1=merge1.sort_values('Fecha_Desde')"
   ]
  },
  {
   "cell_type": "code",
   "execution_count": 285,
   "metadata": {},
   "outputs": [],
   "source": [
    "clients_atributos['FechaAltaCliente']=pd.to_datetime(clients_atributos['FechaAltaCliente'])"
   ]
  },
  {
   "cell_type": "code",
   "execution_count": 286,
   "metadata": {},
   "outputs": [],
   "source": [
    "atri=clients_atributos[['Cliente','FechaAltaCliente','EF']]"
   ]
  },
  {
   "cell_type": "code",
   "execution_count": 287,
   "metadata": {},
   "outputs": [],
   "source": [
    "join1=pd.merge(merge1,atri,how='left',on='Cliente')"
   ]
  },
  {
   "cell_type": "code",
   "execution_count": 288,
   "metadata": {},
   "outputs": [],
   "source": [
    "join1['antiguedad']=(pd.to_datetime('2019-12-1')-join1['FechaAltaCliente']).dt.days"
   ]
  },
  {
   "cell_type": "code",
   "execution_count": 289,
   "metadata": {},
   "outputs": [],
   "source": [
    "tr1=join1.groupby(['id_full']).agg({'diff_fecha':['sum','mean',long],'antiguedad':['mean'],'ejecutaron':'sum'})"
   ]
  },
  {
   "cell_type": "code",
   "execution_count": 290,
   "metadata": {},
   "outputs": [],
   "source": [
    "tr1.columns=['_'.join(col).strip() for col in tr1.columns]\n",
    "tr1=tr1.reset_index()"
   ]
  },
  {
   "cell_type": "code",
   "execution_count": 291,
   "metadata": {},
   "outputs": [],
   "source": [
    "######################################333"
   ]
  },
  {
   "cell_type": "code",
   "execution_count": 292,
   "metadata": {},
   "outputs": [],
   "source": [
    "train_sal1=pd.merge(test_sal4,tr1,how='left',on='id_full')"
   ]
  },
  {
   "cell_type": "code",
   "execution_count": 293,
   "metadata": {},
   "outputs": [],
   "source": [
    "from sklearn.model_selection import train_test_split\n",
    "import lightgbm as lgb\n",
    "train_total2=train_sal1.drop(['id_full'],axis=1)\n",
    "Trainx, Testx = train_test_split(train_total2, test_size = 0.3,random_state=42)"
   ]
  },
  {
   "cell_type": "code",
   "execution_count": 294,
   "metadata": {},
   "outputs": [],
   "source": [
    "entrena = Trainx.drop(['target_pos'], axis=1)\n",
    "target = Trainx[\"target_pos\"]\n",
    "prueba = Testx.drop(['target_pos'], axis=1)\n",
    "target_prueba = Testx[\"target_pos\"]"
   ]
  },
  {
   "cell_type": "code",
   "execution_count": 295,
   "metadata": {},
   "outputs": [],
   "source": [
    "dtrain1 = lgb.Dataset(entrena, label=target)\n",
    "dvalid1 = lgb.Dataset(prueba, label=target_prueba)"
   ]
  },
  {
   "cell_type": "code",
   "execution_count": 334,
   "metadata": {},
   "outputs": [
    {
     "name": "stdout",
     "output_type": "stream",
     "text": [
      "Training until validation scores don't improve for 50 rounds\n",
      "[100]\ttraining's auc: 0.826247\ttraining's f1_score: 0.742938\tvalid_1's auc: 0.767619\tvalid_1's f1_score: 0.698865\n",
      "[200]\ttraining's auc: 0.844267\ttraining's f1_score: 0.759849\tvalid_1's auc: 0.769532\tvalid_1's f1_score: 0.703796\n",
      "Early stopping, best iteration is:\n",
      "[188]\ttraining's auc: 0.842233\ttraining's f1_score: 0.759621\tvalid_1's auc: 0.769266\tvalid_1's f1_score: 0.706324\n"
     ]
    }
   ],
   "source": [
    "num_round = 1000\n",
    "clf1 = lgb.train(parameters, dtrain1, num_round, valid_sets = [dtrain1, dvalid1], verbose_eval=100, early_stopping_rounds = 50,feval=lgb_f1)"
   ]
  },
  {
   "cell_type": "code",
   "execution_count": 298,
   "metadata": {},
   "outputs": [
    {
     "data": {
      "text/plain": [
       "<matplotlib.axes._subplots.AxesSubplot at 0x25c0f836d60>"
      ]
     },
     "execution_count": 298,
     "metadata": {},
     "output_type": "execute_result"
    },
    {
     "data": {
      "image/png": "[encoded data removed]",
      "text/plain": [
       "<Figure size 432x288 with 1 Axes>"
      ]
     },
     "metadata": {
      "needs_background": "light"
     },
     "output_type": "display_data"
    }
   ],
   "source": [
    "lgb.plot_importance(clf1, max_num_features=29, importance_type='split')"
   ]
  },
  {
   "cell_type": "code",
   "execution_count": 299,
   "metadata": {},
   "outputs": [],
   "source": [
    "pred_test=test_sal.groupby(['id_full_c']).agg({'Nr':['sum','mean','std','median'],'target_pos':['sum',long,propor],'Hl':['sum','mean'],'ganancia':['sum','mean'],\n",
    "                                              'propor_des_in':['mean','sum'],'ganancia_pi':['mean','sum']})"
   ]
  },
  {
   "cell_type": "code",
   "execution_count": 304,
   "metadata": {},
   "outputs": [],
   "source": [
    "pred_test.columns=['_'.join(col).strip() for col in pred_test.columns]"
   ]
  },
  {
   "cell_type": "code",
   "execution_count": 300,
   "metadata": {},
   "outputs": [],
   "source": [
    "test_sal['target_pos']=test_sal['target_pos'].astype(int)"
   ]
  },
  {
   "cell_type": "code",
   "execution_count": 301,
   "metadata": {},
   "outputs": [],
   "source": [
    "v1_pred=test_sal.groupby(['id_full_c']).agg({'target_pos':valor_01})"
   ]
  },
  {
   "cell_type": "code",
   "execution_count": 302,
   "metadata": {},
   "outputs": [],
   "source": [
    "v1_pred=v1_pred.reset_index()"
   ]
  },
  {
   "cell_type": "code",
   "execution_count": 303,
   "metadata": {},
   "outputs": [],
   "source": [
    "v1_pred['target_pos_proba']=v1_pred['target_pos'].apply(fi)"
   ]
  },
  {
   "cell_type": "code",
   "execution_count": null,
   "metadata": {},
   "outputs": [],
   "source": []
  },
  {
   "cell_type": "code",
   "execution_count": 305,
   "metadata": {},
   "outputs": [],
   "source": [
    "pred_test1=pd.merge(pred_test,v1_pred[['id_full_c','target_pos_proba']],how='inner',on='id_full_c')"
   ]
  },
  {
   "cell_type": "code",
   "execution_count": 306,
   "metadata": {},
   "outputs": [],
   "source": [
    "pred_test1.rename(columns={'id_full_c':'id_full'},inplace=True)"
   ]
  },
  {
   "cell_type": "code",
   "execution_count": 307,
   "metadata": {},
   "outputs": [],
   "source": [
    "pred_test2=pd.merge(pred_test1,tr1,how='left',on='id_full')"
   ]
  },
  {
   "cell_type": "code",
   "execution_count": 323,
   "metadata": {},
   "outputs": [],
   "source": [
    "prop=clf1.predict(pred_test2.drop(['id_full'],axis=1))"
   ]
  },
  {
   "cell_type": "code",
   "execution_count": 324,
   "metadata": {},
   "outputs": [],
   "source": [
    "pred_test2=pred_test1[['id_full']]"
   ]
  },
  {
   "cell_type": "code",
   "execution_count": 325,
   "metadata": {},
   "outputs": [],
   "source": [
    "pred_test2['Ejecuto_Promo']=prop"
   ]
  },
  {
   "cell_type": "code",
   "execution_count": 326,
   "metadata": {},
   "outputs": [
    {
     "data": {
      "text/html": [
       "<div>\n",
       "<style scoped>\n",
       "    .dataframe tbody tr th:only-of-type {\n",
       "        vertical-align: middle;\n",
       "    }\n",
       "\n",
       "    .dataframe tbody tr th {\n",
       "        vertical-align: top;\n",
       "    }\n",
       "\n",
       "    .dataframe thead th {\n",
       "        text-align: right;\n",
       "    }\n",
       "</style>\n",
       "<table border=\"1\" class=\"dataframe\">\n",
       "  <thead>\n",
       "    <tr style=\"text-align: right;\">\n",
       "      <th></th>\n",
       "      <th>Cliente</th>\n",
       "      <th>Marca</th>\n",
       "      <th>Cupo</th>\n",
       "      <th>Ejecuto_Promo</th>\n",
       "      <th>id_full</th>\n",
       "      <th>marca_cupo</th>\n",
       "    </tr>\n",
       "  </thead>\n",
       "  <tbody>\n",
       "    <tr>\n",
       "      <th>0</th>\n",
       "      <td>10</td>\n",
       "      <td>40</td>\n",
       "      <td>16</td>\n",
       "      <td>NaN</td>\n",
       "      <td>10_40_16</td>\n",
       "      <td>40_16</td>\n",
       "    </tr>\n",
       "    <tr>\n",
       "      <th>1</th>\n",
       "      <td>17</td>\n",
       "      <td>29</td>\n",
       "      <td>9</td>\n",
       "      <td>NaN</td>\n",
       "      <td>17_29_9</td>\n",
       "      <td>29_9</td>\n",
       "    </tr>\n",
       "    <tr>\n",
       "      <th>2</th>\n",
       "      <td>37</td>\n",
       "      <td>29</td>\n",
       "      <td>9</td>\n",
       "      <td>NaN</td>\n",
       "      <td>37_29_9</td>\n",
       "      <td>29_9</td>\n",
       "    </tr>\n",
       "    <tr>\n",
       "      <th>3</th>\n",
       "      <td>46</td>\n",
       "      <td>29</td>\n",
       "      <td>9</td>\n",
       "      <td>NaN</td>\n",
       "      <td>46_29_9</td>\n",
       "      <td>29_9</td>\n",
       "    </tr>\n",
       "    <tr>\n",
       "      <th>4</th>\n",
       "      <td>48</td>\n",
       "      <td>29</td>\n",
       "      <td>9</td>\n",
       "      <td>NaN</td>\n",
       "      <td>48_29_9</td>\n",
       "      <td>29_9</td>\n",
       "    </tr>\n",
       "  </tbody>\n",
       "</table>\n",
       "</div>"
      ],
      "text/plain": [
       "   Cliente  Marca  Cupo  Ejecuto_Promo   id_full marca_cupo\n",
       "0       10     40    16            NaN  10_40_16      40_16\n",
       "1       17     29     9            NaN   17_29_9       29_9\n",
       "2       37     29     9            NaN   37_29_9       29_9\n",
       "3       46     29     9            NaN   46_29_9       29_9\n",
       "4       48     29     9            NaN   48_29_9       29_9"
      ]
     },
     "execution_count": 326,
     "metadata": {},
     "output_type": "execute_result"
    }
   ],
   "source": [
    "test.head()"
   ]
  },
  {
   "cell_type": "code",
   "execution_count": 327,
   "metadata": {},
   "outputs": [],
   "source": [
    "test_final=pd.merge(test[['Cliente','Marca','Cupo','id_full']],pred_test2,how='left',on='id_full')"
   ]
  },
  {
   "cell_type": "code",
   "execution_count": 328,
   "metadata": {},
   "outputs": [],
   "source": [
    "test_final['Ejecuto_Promo']=test_final['Ejecuto_Promo'].fillna(0)"
   ]
  },
  {
   "cell_type": "code",
   "execution_count": 329,
   "metadata": {},
   "outputs": [],
   "source": [
    "test_final_1=test_final.drop(['id_full'],axis=1)"
   ]
  },
  {
   "cell_type": "code",
   "execution_count": 319,
   "metadata": {},
   "outputs": [],
   "source": [
    "test_final_1.to_csv('test_final_1.csv',index=False,header=True)"
   ]
  },
  {
   "cell_type": "code",
   "execution_count": 330,
   "metadata": {},
   "outputs": [],
   "source": [
    "test_final_1.to_csv('test_final_2.csv',index=False,header=True)"
   ]
  },
  {
   "cell_type": "code",
   "execution_count": null,
   "metadata": {},
   "outputs": [],
   "source": []
  },
  {
   "cell_type": "code",
   "execution_count": 351,
   "metadata": {},
   "outputs": [],
   "source": [
    "train_sal2=pd.merge(test[['id_full','Marca']],train_sal1,how='inner',on='id_full')"
   ]
  },
  {
   "cell_type": "code",
   "execution_count": 403,
   "metadata": {},
   "outputs": [],
   "source": [
    "pred_test2_1=pd.merge(test[['id_full','Marca']],pred_test1,how='inner',on='id_full')"
   ]
  },
  {
   "cell_type": "code",
   "execution_count": 404,
   "metadata": {},
   "outputs": [
    {
     "data": {
      "text/html": [
       "<div>\n",
       "<style scoped>\n",
       "    .dataframe tbody tr th:only-of-type {\n",
       "        vertical-align: middle;\n",
       "    }\n",
       "\n",
       "    .dataframe tbody tr th {\n",
       "        vertical-align: top;\n",
       "    }\n",
       "\n",
       "    .dataframe thead th {\n",
       "        text-align: right;\n",
       "    }\n",
       "</style>\n",
       "<table border=\"1\" class=\"dataframe\">\n",
       "  <thead>\n",
       "    <tr style=\"text-align: right;\">\n",
       "      <th></th>\n",
       "      <th>id_full</th>\n",
       "      <th>Marca</th>\n",
       "      <th>Nr_sum</th>\n",
       "      <th>Nr_mean</th>\n",
       "      <th>Nr_std</th>\n",
       "      <th>Nr_median</th>\n",
       "      <th>target_pos_sum</th>\n",
       "      <th>target_pos_len</th>\n",
       "      <th>target_pos_proporcion_target</th>\n",
       "      <th>Hl_sum</th>\n",
       "      <th>Hl_mean</th>\n",
       "      <th>ganancia_sum</th>\n",
       "      <th>ganancia_mean</th>\n",
       "      <th>propor_des_in_mean</th>\n",
       "      <th>propor_des_in_sum</th>\n",
       "      <th>ganancia_pi_mean</th>\n",
       "      <th>ganancia_pi_sum</th>\n",
       "      <th>target_pos_proba</th>\n",
       "    </tr>\n",
       "  </thead>\n",
       "  <tbody>\n",
       "    <tr>\n",
       "      <th>0</th>\n",
       "      <td>10_40_16</td>\n",
       "      <td>40</td>\n",
       "      <td>76475.72</td>\n",
       "      <td>25491.906667</td>\n",
       "      <td>17270.222207</td>\n",
       "      <td>18385.050</td>\n",
       "      <td>3</td>\n",
       "      <td>3</td>\n",
       "      <td>1.00</td>\n",
       "      <td>0.36</td>\n",
       "      <td>0.120000</td>\n",
       "      <td>37974.08</td>\n",
       "      <td>12658.026667</td>\n",
       "      <td>0.510816</td>\n",
       "      <td>1.532449</td>\n",
       "      <td>0.489184</td>\n",
       "      <td>1.467551</td>\n",
       "      <td>0.000</td>\n",
       "    </tr>\n",
       "    <tr>\n",
       "      <th>1</th>\n",
       "      <td>17_29_9</td>\n",
       "      <td>29</td>\n",
       "      <td>528982.70</td>\n",
       "      <td>88163.783333</td>\n",
       "      <td>45251.265474</td>\n",
       "      <td>95308.835</td>\n",
       "      <td>3</td>\n",
       "      <td>6</td>\n",
       "      <td>0.50</td>\n",
       "      <td>0.78</td>\n",
       "      <td>0.130000</td>\n",
       "      <td>492103.46</td>\n",
       "      <td>82017.243333</td>\n",
       "      <td>0.052869</td>\n",
       "      <td>0.317211</td>\n",
       "      <td>0.947131</td>\n",
       "      <td>5.682789</td>\n",
       "      <td>0.000</td>\n",
       "    </tr>\n",
       "    <tr>\n",
       "      <th>2</th>\n",
       "      <td>46_29_9</td>\n",
       "      <td>29</td>\n",
       "      <td>174725.23</td>\n",
       "      <td>21840.653750</td>\n",
       "      <td>11920.905961</td>\n",
       "      <td>22148.725</td>\n",
       "      <td>2</td>\n",
       "      <td>8</td>\n",
       "      <td>0.25</td>\n",
       "      <td>0.26</td>\n",
       "      <td>0.032500</td>\n",
       "      <td>172039.56</td>\n",
       "      <td>21504.945000</td>\n",
       "      <td>0.028076</td>\n",
       "      <td>0.224606</td>\n",
       "      <td>0.971924</td>\n",
       "      <td>7.775394</td>\n",
       "      <td>0.375</td>\n",
       "    </tr>\n",
       "    <tr>\n",
       "      <th>3</th>\n",
       "      <td>48_29_9</td>\n",
       "      <td>29</td>\n",
       "      <td>9200.52</td>\n",
       "      <td>9200.520000</td>\n",
       "      <td>NaN</td>\n",
       "      <td>9200.520</td>\n",
       "      <td>1</td>\n",
       "      <td>1</td>\n",
       "      <td>1.00</td>\n",
       "      <td>0.02</td>\n",
       "      <td>0.020000</td>\n",
       "      <td>7299.70</td>\n",
       "      <td>7299.700000</td>\n",
       "      <td>0.206599</td>\n",
       "      <td>0.206599</td>\n",
       "      <td>0.793401</td>\n",
       "      <td>0.793401</td>\n",
       "      <td>0.000</td>\n",
       "    </tr>\n",
       "    <tr>\n",
       "      <th>4</th>\n",
       "      <td>53_29_9</td>\n",
       "      <td>29</td>\n",
       "      <td>33801.68</td>\n",
       "      <td>5633.613333</td>\n",
       "      <td>4363.772960</td>\n",
       "      <td>2816.810</td>\n",
       "      <td>0</td>\n",
       "      <td>6</td>\n",
       "      <td>0.00</td>\n",
       "      <td>0.04</td>\n",
       "      <td>0.006667</td>\n",
       "      <td>33801.68</td>\n",
       "      <td>5633.613333</td>\n",
       "      <td>0.000000</td>\n",
       "      <td>0.000000</td>\n",
       "      <td>1.000000</td>\n",
       "      <td>6.000000</td>\n",
       "      <td>1.000</td>\n",
       "    </tr>\n",
       "  </tbody>\n",
       "</table>\n",
       "</div>"
      ],
      "text/plain": [
       "    id_full  Marca     Nr_sum       Nr_mean        Nr_std  Nr_median  \\\n",
       "0  10_40_16     40   76475.72  25491.906667  17270.222207  18385.050   \n",
       "1   17_29_9     29  528982.70  88163.783333  45251.265474  95308.835   \n",
       "2   46_29_9     29  174725.23  21840.653750  11920.905961  22148.725   \n",
       "3   48_29_9     29    9200.52   9200.520000           NaN   9200.520   \n",
       "4   53_29_9     29   33801.68   5633.613333   4363.772960   2816.810   \n",
       "\n",
       "   target_pos_sum  target_pos_len  target_pos_proporcion_target  Hl_sum  \\\n",
       "0               3               3                          1.00    0.36   \n",
       "1               3               6                          0.50    0.78   \n",
       "2               2               8                          0.25    0.26   \n",
       "3               1               1                          1.00    0.02   \n",
       "4               0               6                          0.00    0.04   \n",
       "\n",
       "    Hl_mean  ganancia_sum  ganancia_mean  propor_des_in_mean  \\\n",
       "0  0.120000      37974.08   12658.026667            0.510816   \n",
       "1  0.130000     492103.46   82017.243333            0.052869   \n",
       "2  0.032500     172039.56   21504.945000            0.028076   \n",
       "3  0.020000       7299.70    7299.700000            0.206599   \n",
       "4  0.006667      33801.68    5633.613333            0.000000   \n",
       "\n",
       "   propor_des_in_sum  ganancia_pi_mean  ganancia_pi_sum  target_pos_proba  \n",
       "0           1.532449          0.489184         1.467551             0.000  \n",
       "1           0.317211          0.947131         5.682789             0.000  \n",
       "2           0.224606          0.971924         7.775394             0.375  \n",
       "3           0.206599          0.793401         0.793401             0.000  \n",
       "4           0.000000          1.000000         6.000000             1.000  "
      ]
     },
     "execution_count": 404,
     "metadata": {},
     "output_type": "execute_result"
    }
   ],
   "source": [
    "pred_test2_1.head()"
   ]
  },
  {
   "cell_type": "code",
   "execution_count": 511,
   "metadata": {},
   "outputs": [],
   "source": [
    "predicciones=[]"
   ]
  },
  {
   "cell_type": "code",
   "execution_count": 512,
   "metadata": {},
   "outputs": [
    {
     "data": {
      "text/plain": [
       "array([40, 29, 39], dtype=int64)"
      ]
     },
     "execution_count": 512,
     "metadata": {},
     "output_type": "execute_result"
    }
   ],
   "source": [
    "train_sal2.Marca.unique()"
   ]
  },
  {
   "cell_type": "code",
   "execution_count": 513,
   "metadata": {},
   "outputs": [],
   "source": [
    "import seaborn as sns"
   ]
  },
  {
   "cell_type": "code",
   "execution_count": 514,
   "metadata": {},
   "outputs": [],
   "source": [
    "#train_sal2.groupby('target_pos')['target_pos'].size().plot.bar()"
   ]
  },
  {
   "cell_type": "code",
   "execution_count": 515,
   "metadata": {},
   "outputs": [],
   "source": [
    "#plt.bar(['0','1'],train_sal2.target_pos.value_counts().values)"
   ]
  },
  {
   "cell_type": "code",
   "execution_count": 516,
   "metadata": {},
   "outputs": [
    {
     "data": {
      "image/png": "[encoded data removed]",
      "text/plain": [
       "<Figure size 432x288 with 1 Axes>"
      ]
     },
     "metadata": {
      "needs_background": "light"
     },
     "output_type": "display_data"
    }
   ],
   "source": [
    "sns.countplot(train_sal2.target_pos)\n",
    "plt.show()"
   ]
  },
  {
   "cell_type": "code",
   "execution_count": 517,
   "metadata": {},
   "outputs": [],
   "source": [
    "import gc"
   ]
  },
  {
   "cell_type": "code",
   "execution_count": 518,
   "metadata": {},
   "outputs": [
    {
     "name": "stdout",
     "output_type": "stream",
     "text": [
      "marca : 40\n"
     ]
    },
    {
     "data": {
      "image/png": "[encoded data removed]",
      "text/plain": [
       "<Figure size 432x288 with 1 Axes>"
      ]
     },
     "metadata": {
      "needs_background": "light"
     },
     "output_type": "display_data"
    },
    {
     "name": "stdout",
     "output_type": "stream",
     "text": [
      "Training until validation scores don't improve for 50 rounds\n",
      "[100]\ttraining's auc: 0.845414\ttraining's f1_score: 0.764399\tvalid_1's auc: 0.784404\tvalid_1's f1_score: 0.71967\n",
      "Early stopping, best iteration is:\n",
      "[115]\ttraining's auc: 0.848257\ttraining's f1_score: 0.76879\tvalid_1's auc: 0.784878\tvalid_1's f1_score: 0.723359\n",
      "marca : 29\n"
     ]
    },
    {
     "data": {
      "image/png": "[encoded data removed]",
      "text/plain": [
       "<Figure size 432x288 with 1 Axes>"
      ]
     },
     "metadata": {
      "needs_background": "light"
     },
     "output_type": "display_data"
    },
    {
     "name": "stdout",
     "output_type": "stream",
     "text": [
      "Training until validation scores don't improve for 50 rounds\n",
      "[100]\ttraining's auc: 0.871369\ttraining's f1_score: 0.752523\tvalid_1's auc: 0.725112\tvalid_1's f1_score: 0.640897\n",
      "Early stopping, best iteration is:\n",
      "[104]\ttraining's auc: 0.874141\ttraining's f1_score: 0.754723\tvalid_1's auc: 0.725788\tvalid_1's f1_score: 0.645011\n",
      "marca : 39\n"
     ]
    },
    {
     "data": {
      "image/png": "[encoded data removed]",
      "text/plain": [
       "<Figure size 432x288 with 1 Axes>"
      ]
     },
     "metadata": {
      "needs_background": "light"
     },
     "output_type": "display_data"
    },
    {
     "name": "stdout",
     "output_type": "stream",
     "text": [
      "Training until validation scores don't improve for 50 rounds\n",
      "[100]\ttraining's auc: 0.892554\ttraining's f1_score: 0.784487\tvalid_1's auc: 0.723221\tvalid_1's f1_score: 0.651002\n",
      "Early stopping, best iteration is:\n",
      "[110]\ttraining's auc: 0.896385\ttraining's f1_score: 0.790542\tvalid_1's auc: 0.72649\tvalid_1's f1_score: 0.664737\n"
     ]
    }
   ],
   "source": [
    "for r,i in enumerate(train_sal2.Marca.unique(),1):\n",
    "    print('marca :',i)\n",
    "    train_1=train_sal2[train_sal2.Marca==i]\n",
    "    train_1_1=train_1.drop(['id_full','Marca'],axis=1)\n",
    "    test_1=pred_test2_1[pred_test2_1.Marca==i]\n",
    "    test_1_1=test_1.drop(['id_full','Marca'],axis=1)\n",
    "    sns.countplot(train_1_1.target_pos)\n",
    "    plt.show()\n",
    "    \n",
    "    Trainx, Testx = train_test_split(train_1_1, test_size = 0.3,random_state=r+2020)\n",
    "    entrena = Trainx.drop(['target_pos'], axis=1)\n",
    "    target = Trainx[\"target_pos\"]\n",
    "    prueba = Testx.drop(['target_pos'], axis=1)\n",
    "    target_prueba = Testx[\"target_pos\"]\n",
    "    dtrain1 = lgb.Dataset(entrena, label=target)\n",
    "    dvalid1 = lgb.Dataset(prueba, label=target_prueba)\n",
    "        \n",
    "    num_round = 1000\n",
    "    clf = lgb.train(parameters, dtrain1, num_round, valid_sets = [dtrain1, dvalid1], verbose_eval=100, early_stopping_rounds = 50,feval=lgb_f1)\n",
    "    \n",
    "    prop=clf.predict(test_1_1)\n",
    "    pred_testp=test_1[['id_full']]\n",
    "    pred_testp['Ejecuto_Promo']=prop\n",
    "    predicciones.append(pred_testp)\n",
    "    del train_1,train_1_1,test_1,test_1_1,pred_testp,clf\n",
    "    gc.collect()\n",
    "    \n",
    "    "
   ]
  },
  {
   "cell_type": "code",
   "execution_count": 507,
   "metadata": {},
   "outputs": [
    {
     "data": {
      "text/plain": [
       "array([0.33156607, 0.26952378, 0.23682902, ..., 0.36913328, 0.34042499,\n",
       "       0.28521378])"
      ]
     },
     "execution_count": 507,
     "metadata": {},
     "output_type": "execute_result"
    }
   ],
   "source": [
    "prop"
   ]
  },
  {
   "cell_type": "code",
   "execution_count": 508,
   "metadata": {},
   "outputs": [],
   "source": [
    "predict1=pd.concat(predicciones,axis=0)"
   ]
  },
  {
   "cell_type": "code",
   "execution_count": 509,
   "metadata": {},
   "outputs": [],
   "source": [
    "predict1=predict1.reset_index(drop=True)"
   ]
  },
  {
   "cell_type": "code",
   "execution_count": 510,
   "metadata": {},
   "outputs": [
    {
     "data": {
      "text/html": [
       "<div>\n",
       "<style scoped>\n",
       "    .dataframe tbody tr th:only-of-type {\n",
       "        vertical-align: middle;\n",
       "    }\n",
       "\n",
       "    .dataframe tbody tr th {\n",
       "        vertical-align: top;\n",
       "    }\n",
       "\n",
       "    .dataframe thead th {\n",
       "        text-align: right;\n",
       "    }\n",
       "</style>\n",
       "<table border=\"1\" class=\"dataframe\">\n",
       "  <thead>\n",
       "    <tr style=\"text-align: right;\">\n",
       "      <th></th>\n",
       "      <th>id_full</th>\n",
       "      <th>Ejecuto_Promo</th>\n",
       "    </tr>\n",
       "  </thead>\n",
       "  <tbody>\n",
       "    <tr>\n",
       "      <th>0</th>\n",
       "      <td>10_40_16</td>\n",
       "      <td>0.406729</td>\n",
       "    </tr>\n",
       "    <tr>\n",
       "      <th>1</th>\n",
       "      <td>188_40_16</td>\n",
       "      <td>0.448433</td>\n",
       "    </tr>\n",
       "    <tr>\n",
       "      <th>2</th>\n",
       "      <td>191_40_16</td>\n",
       "      <td>0.363290</td>\n",
       "    </tr>\n",
       "    <tr>\n",
       "      <th>3</th>\n",
       "      <td>206_40_16</td>\n",
       "      <td>0.408475</td>\n",
       "    </tr>\n",
       "    <tr>\n",
       "      <th>4</th>\n",
       "      <td>214_40_16</td>\n",
       "      <td>0.438678</td>\n",
       "    </tr>\n",
       "  </tbody>\n",
       "</table>\n",
       "</div>"
      ],
      "text/plain": [
       "     id_full  Ejecuto_Promo\n",
       "0   10_40_16       0.406729\n",
       "1  188_40_16       0.448433\n",
       "2  191_40_16       0.363290\n",
       "3  206_40_16       0.408475\n",
       "4  214_40_16       0.438678"
      ]
     },
     "execution_count": 510,
     "metadata": {},
     "output_type": "execute_result"
    }
   ],
   "source": [
    "predict1.head()"
   ]
  },
  {
   "cell_type": "code",
   "execution_count": 435,
   "metadata": {},
   "outputs": [],
   "source": [
    "test_final_1=pd.merge(test[['Cliente','Marca','Cupo','id_full']],predict1,how='left',on='id_full')"
   ]
  },
  {
   "cell_type": "code",
   "execution_count": 436,
   "metadata": {},
   "outputs": [],
   "source": [
    "test_final_1['Ejecuto_Promo']=test_final_1['Ejecuto_Promo'].fillna(0.2)"
   ]
  },
  {
   "cell_type": "code",
   "execution_count": 437,
   "metadata": {},
   "outputs": [],
   "source": [
    "test_final_1=test_final_1.drop(['id_full'],axis=1)"
   ]
  },
  {
   "cell_type": "code",
   "execution_count": 438,
   "metadata": {},
   "outputs": [
    {
     "data": {
      "text/html": [
       "<div>\n",
       "<style scoped>\n",
       "    .dataframe tbody tr th:only-of-type {\n",
       "        vertical-align: middle;\n",
       "    }\n",
       "\n",
       "    .dataframe tbody tr th {\n",
       "        vertical-align: top;\n",
       "    }\n",
       "\n",
       "    .dataframe thead th {\n",
       "        text-align: right;\n",
       "    }\n",
       "</style>\n",
       "<table border=\"1\" class=\"dataframe\">\n",
       "  <thead>\n",
       "    <tr style=\"text-align: right;\">\n",
       "      <th></th>\n",
       "      <th>Cliente</th>\n",
       "      <th>Marca</th>\n",
       "      <th>Cupo</th>\n",
       "      <th>Ejecuto_Promo</th>\n",
       "    </tr>\n",
       "  </thead>\n",
       "  <tbody>\n",
       "    <tr>\n",
       "      <th>0</th>\n",
       "      <td>10</td>\n",
       "      <td>40</td>\n",
       "      <td>16</td>\n",
       "      <td>0.406729</td>\n",
       "    </tr>\n",
       "    <tr>\n",
       "      <th>1</th>\n",
       "      <td>17</td>\n",
       "      <td>29</td>\n",
       "      <td>9</td>\n",
       "      <td>0.285086</td>\n",
       "    </tr>\n",
       "    <tr>\n",
       "      <th>2</th>\n",
       "      <td>37</td>\n",
       "      <td>29</td>\n",
       "      <td>9</td>\n",
       "      <td>0.200000</td>\n",
       "    </tr>\n",
       "    <tr>\n",
       "      <th>3</th>\n",
       "      <td>46</td>\n",
       "      <td>29</td>\n",
       "      <td>9</td>\n",
       "      <td>0.230069</td>\n",
       "    </tr>\n",
       "    <tr>\n",
       "      <th>4</th>\n",
       "      <td>48</td>\n",
       "      <td>29</td>\n",
       "      <td>9</td>\n",
       "      <td>0.461757</td>\n",
       "    </tr>\n",
       "  </tbody>\n",
       "</table>\n",
       "</div>"
      ],
      "text/plain": [
       "   Cliente  Marca  Cupo  Ejecuto_Promo\n",
       "0       10     40    16       0.406729\n",
       "1       17     29     9       0.285086\n",
       "2       37     29     9       0.200000\n",
       "3       46     29     9       0.230069\n",
       "4       48     29     9       0.461757"
      ]
     },
     "execution_count": 438,
     "metadata": {},
     "output_type": "execute_result"
    }
   ],
   "source": [
    "test_final_1.head()"
   ]
  },
  {
   "cell_type": "code",
   "execution_count": 441,
   "metadata": {},
   "outputs": [],
   "source": [
    "test_final_1.to_csv('test_final_3mol.csv',index=False,header=True)"
   ]
  },
  {
   "cell_type": "code",
   "execution_count": 442,
   "metadata": {},
   "outputs": [],
   "source": [
    "test_final_2=pd.read_csv('test_final_2.csv')"
   ]
  },
  {
   "cell_type": "code",
   "execution_count": 445,
   "metadata": {},
   "outputs": [
    {
     "data": {
      "text/plain": [
       "array([[1.        , 0.82772182],\n",
       "       [0.82772182, 1.        ]])"
      ]
     },
     "execution_count": 445,
     "metadata": {},
     "output_type": "execute_result"
    }
   ],
   "source": [
    "np.corrcoef(test_final_2.Ejecuto_Promo,test_final_1.Ejecuto_Promo)"
   ]
  },
  {
   "cell_type": "code",
   "execution_count": null,
   "metadata": {},
   "outputs": [],
   "source": []
  }
 ],
 "metadata": {
  "kernelspec": {
   "display_name": "Python 3",
   "language": "python",
   "name": "python3"
  },
  "language_info": {
   "codemirror_mode": {
    "name": "ipython",
    "version": 3
   },
   "file_extension": ".py",
   "mimetype": "text/x-python",
   "name": "python",
   "nbconvert_exporter": "python",
   "pygments_lexer": "ipython3",
   "version": "3.8.3"
  }
 },
 "nbformat": 4,
 "nbformat_minor": 4
}
